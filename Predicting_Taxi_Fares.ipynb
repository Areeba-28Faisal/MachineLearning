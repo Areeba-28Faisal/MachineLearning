{
  "cells": [
    {
      "cell_type": "markdown",
      "metadata": {
        "id": "view-in-github",
        "colab_type": "text"
      },
      "source": [
        "<a href=\"https://colab.research.google.com/github/Areeba-28Faisal/MachineLearning/blob/main/Predicting_Taxi_Fares.ipynb\" target=\"_parent\"><img src=\"https://colab.research.google.com/assets/colab-badge.svg\" alt=\"Open In Colab\"/></a>"
      ]
    },
    {
      "cell_type": "markdown",
      "metadata": {
        "id": "MElELWP7Yiio"
      },
      "source": [
        "\n",
        "\n",
        "\n",
        "\n",
        "\n",
        "\n",
        "\n",
        "**Part 1: Predicting Taxi Fares**\n",
        "The goal here is to build a neural network that minimizes loss on the following metrics:\n",
        "MSE, MAE (Mean Absolute Arror) and MAPE (Mean Absolute Percentage Error).\n",
        "Reference: https://www.tensorflow.org/api_docs/python/tf/keras/losses/\n",
        "\n",
        "A. Create a baseline Neural network\n",
        "\n",
        "B. Experiment with number of layers and neurons per layer to increase the\n",
        "performance metrics.\n",
        "\n",
        "C.Experiment with activation functions\n",
        "\n",
        "D. Experiment with regularization techniques: Early stopping, Dropout rate\n",
        "\n",
        "\n"
      ]
    },
    {
      "cell_type": "code",
      "execution_count": null,
      "metadata": {
        "id": "Mogd3XYPYWZ8"
      },
      "outputs": [],
      "source": [
        "import numpy as np\n",
        "import pandas as pd\n",
        "import matplotlib.pyplot as plt\n",
        "import seaborn as sns\n",
        "from sklearn.preprocessing import LabelEncoder\n",
        "import glob\n",
        "import os\n",
        "import cv2\n",
        "from sklearn.linear_model import SGDClassifier\n",
        "from sklearn.preprocessing import StandardScaler\n",
        "from sklearn.pipeline import make_pipeline\n",
        "from sklearn.neighbors import KNeighborsClassifier\n",
        "import warnings\n",
        "warnings.filterwarnings('ignore', category=UserWarning, append=True)\n",
        "from sklearn.linear_model import LogisticRegression"
      ]
    },
    {
      "cell_type": "code",
      "execution_count": null,
      "metadata": {
        "colab": {
          "base_uri": "https://localhost:8080/",
          "height": 678
        },
        "id": "aEz0LZTIaMsI",
        "outputId": "37f00cd5-4d22-4009-94f4-0852c6b6c99d"
      },
      "outputs": [
        {
          "output_type": "execute_result",
          "data": {
            "text/plain": [
              "       Unnamed: 0                            key  fare_amount  \\\n",
              "0               0    2009-04-08 19:11:10.0000004          4.9   \n",
              "1               1    2012-07-30 16:19:08.0000003          4.9   \n",
              "2               2  2011-02-22 13:35:00.000000121          6.9   \n",
              "3               3    2010-10-07 21:09:35.0000002         14.1   \n",
              "4               4  2009-10-02 22:51:00.000000140         12.1   \n",
              "...           ...                            ...          ...   \n",
              "99995       99995    2015-06-08 07:05:28.0000003          4.5   \n",
              "99996       99996  2012-09-17 15:09:00.000000161         25.5   \n",
              "99997       99997   2013-02-02 19:02:00.00000047         14.5   \n",
              "99998       99998    2013-12-28 15:44:17.0000004          9.0   \n",
              "99999       99999  2014-04-26 19:30:00.000000186         15.0   \n",
              "\n",
              "               pickup_datetime  pickup_longitude  pickup_latitude  \\\n",
              "0      2009-04-08 19:11:10 UTC        -73.998287        40.727490   \n",
              "1      2012-07-30 16:19:08 UTC        -73.966597        40.794345   \n",
              "2      2011-02-22 13:35:00 UTC        -73.971638        40.763382   \n",
              "3      2010-10-07 21:09:35 UTC        -74.003545        40.707399   \n",
              "4      2009-10-02 22:51:00 UTC        -74.004532        40.707465   \n",
              "...                        ...               ...              ...   \n",
              "99995  2015-06-08 07:05:28 UTC        -73.965111        40.772343   \n",
              "99996  2012-09-17 15:09:00 UTC        -73.786162        40.640710   \n",
              "99997  2013-02-02 19:02:00 UTC        -73.982023        40.758052   \n",
              "99998  2013-12-28 15:44:17 UTC        -73.956423        40.778140   \n",
              "99999  2014-04-26 19:30:00 UTC        -73.989565        40.758757   \n",
              "\n",
              "       dropoff_longitude  dropoff_latitude  passenger_count  \n",
              "0             -73.989854         40.735239                2  \n",
              "1             -73.965682         40.803808                2  \n",
              "2             -73.953767         40.783715                1  \n",
              "3             -73.981312         40.750071                1  \n",
              "4             -73.977908         40.745633                5  \n",
              "...                  ...               ...              ...  \n",
              "99995         -73.952072         40.768021                1  \n",
              "99996         -73.878865         40.658735                1  \n",
              "99997         -73.993930         40.734462                1  \n",
              "99998         -73.981008         40.779568                1  \n",
              "99999         -73.989992         40.733387                1  \n",
              "\n",
              "[100000 rows x 9 columns]"
            ],
            "text/html": [
              "\n",
              "  <div id=\"df-a9147a4b-7f8e-408c-9a4c-a5df0c1bbd12\">\n",
              "    <div class=\"colab-df-container\">\n",
              "      <div>\n",
              "<style scoped>\n",
              "    .dataframe tbody tr th:only-of-type {\n",
              "        vertical-align: middle;\n",
              "    }\n",
              "\n",
              "    .dataframe tbody tr th {\n",
              "        vertical-align: top;\n",
              "    }\n",
              "\n",
              "    .dataframe thead th {\n",
              "        text-align: right;\n",
              "    }\n",
              "</style>\n",
              "<table border=\"1\" class=\"dataframe\">\n",
              "  <thead>\n",
              "    <tr style=\"text-align: right;\">\n",
              "      <th></th>\n",
              "      <th>Unnamed: 0</th>\n",
              "      <th>key</th>\n",
              "      <th>fare_amount</th>\n",
              "      <th>pickup_datetime</th>\n",
              "      <th>pickup_longitude</th>\n",
              "      <th>pickup_latitude</th>\n",
              "      <th>dropoff_longitude</th>\n",
              "      <th>dropoff_latitude</th>\n",
              "      <th>passenger_count</th>\n",
              "    </tr>\n",
              "  </thead>\n",
              "  <tbody>\n",
              "    <tr>\n",
              "      <th>0</th>\n",
              "      <td>0</td>\n",
              "      <td>2009-04-08 19:11:10.0000004</td>\n",
              "      <td>4.9</td>\n",
              "      <td>2009-04-08 19:11:10 UTC</td>\n",
              "      <td>-73.998287</td>\n",
              "      <td>40.727490</td>\n",
              "      <td>-73.989854</td>\n",
              "      <td>40.735239</td>\n",
              "      <td>2</td>\n",
              "    </tr>\n",
              "    <tr>\n",
              "      <th>1</th>\n",
              "      <td>1</td>\n",
              "      <td>2012-07-30 16:19:08.0000003</td>\n",
              "      <td>4.9</td>\n",
              "      <td>2012-07-30 16:19:08 UTC</td>\n",
              "      <td>-73.966597</td>\n",
              "      <td>40.794345</td>\n",
              "      <td>-73.965682</td>\n",
              "      <td>40.803808</td>\n",
              "      <td>2</td>\n",
              "    </tr>\n",
              "    <tr>\n",
              "      <th>2</th>\n",
              "      <td>2</td>\n",
              "      <td>2011-02-22 13:35:00.000000121</td>\n",
              "      <td>6.9</td>\n",
              "      <td>2011-02-22 13:35:00 UTC</td>\n",
              "      <td>-73.971638</td>\n",
              "      <td>40.763382</td>\n",
              "      <td>-73.953767</td>\n",
              "      <td>40.783715</td>\n",
              "      <td>1</td>\n",
              "    </tr>\n",
              "    <tr>\n",
              "      <th>3</th>\n",
              "      <td>3</td>\n",
              "      <td>2010-10-07 21:09:35.0000002</td>\n",
              "      <td>14.1</td>\n",
              "      <td>2010-10-07 21:09:35 UTC</td>\n",
              "      <td>-74.003545</td>\n",
              "      <td>40.707399</td>\n",
              "      <td>-73.981312</td>\n",
              "      <td>40.750071</td>\n",
              "      <td>1</td>\n",
              "    </tr>\n",
              "    <tr>\n",
              "      <th>4</th>\n",
              "      <td>4</td>\n",
              "      <td>2009-10-02 22:51:00.000000140</td>\n",
              "      <td>12.1</td>\n",
              "      <td>2009-10-02 22:51:00 UTC</td>\n",
              "      <td>-74.004532</td>\n",
              "      <td>40.707465</td>\n",
              "      <td>-73.977908</td>\n",
              "      <td>40.745633</td>\n",
              "      <td>5</td>\n",
              "    </tr>\n",
              "    <tr>\n",
              "      <th>...</th>\n",
              "      <td>...</td>\n",
              "      <td>...</td>\n",
              "      <td>...</td>\n",
              "      <td>...</td>\n",
              "      <td>...</td>\n",
              "      <td>...</td>\n",
              "      <td>...</td>\n",
              "      <td>...</td>\n",
              "      <td>...</td>\n",
              "    </tr>\n",
              "    <tr>\n",
              "      <th>99995</th>\n",
              "      <td>99995</td>\n",
              "      <td>2015-06-08 07:05:28.0000003</td>\n",
              "      <td>4.5</td>\n",
              "      <td>2015-06-08 07:05:28 UTC</td>\n",
              "      <td>-73.965111</td>\n",
              "      <td>40.772343</td>\n",
              "      <td>-73.952072</td>\n",
              "      <td>40.768021</td>\n",
              "      <td>1</td>\n",
              "    </tr>\n",
              "    <tr>\n",
              "      <th>99996</th>\n",
              "      <td>99996</td>\n",
              "      <td>2012-09-17 15:09:00.000000161</td>\n",
              "      <td>25.5</td>\n",
              "      <td>2012-09-17 15:09:00 UTC</td>\n",
              "      <td>-73.786162</td>\n",
              "      <td>40.640710</td>\n",
              "      <td>-73.878865</td>\n",
              "      <td>40.658735</td>\n",
              "      <td>1</td>\n",
              "    </tr>\n",
              "    <tr>\n",
              "      <th>99997</th>\n",
              "      <td>99997</td>\n",
              "      <td>2013-02-02 19:02:00.00000047</td>\n",
              "      <td>14.5</td>\n",
              "      <td>2013-02-02 19:02:00 UTC</td>\n",
              "      <td>-73.982023</td>\n",
              "      <td>40.758052</td>\n",
              "      <td>-73.993930</td>\n",
              "      <td>40.734462</td>\n",
              "      <td>1</td>\n",
              "    </tr>\n",
              "    <tr>\n",
              "      <th>99998</th>\n",
              "      <td>99998</td>\n",
              "      <td>2013-12-28 15:44:17.0000004</td>\n",
              "      <td>9.0</td>\n",
              "      <td>2013-12-28 15:44:17 UTC</td>\n",
              "      <td>-73.956423</td>\n",
              "      <td>40.778140</td>\n",
              "      <td>-73.981008</td>\n",
              "      <td>40.779568</td>\n",
              "      <td>1</td>\n",
              "    </tr>\n",
              "    <tr>\n",
              "      <th>99999</th>\n",
              "      <td>99999</td>\n",
              "      <td>2014-04-26 19:30:00.000000186</td>\n",
              "      <td>15.0</td>\n",
              "      <td>2014-04-26 19:30:00 UTC</td>\n",
              "      <td>-73.989565</td>\n",
              "      <td>40.758757</td>\n",
              "      <td>-73.989992</td>\n",
              "      <td>40.733387</td>\n",
              "      <td>1</td>\n",
              "    </tr>\n",
              "  </tbody>\n",
              "</table>\n",
              "<p>100000 rows × 9 columns</p>\n",
              "</div>\n",
              "      <button class=\"colab-df-convert\" onclick=\"convertToInteractive('df-a9147a4b-7f8e-408c-9a4c-a5df0c1bbd12')\"\n",
              "              title=\"Convert this dataframe to an interactive table.\"\n",
              "              style=\"display:none;\">\n",
              "        \n",
              "  <svg xmlns=\"http://www.w3.org/2000/svg\" height=\"24px\"viewBox=\"0 0 24 24\"\n",
              "       width=\"24px\">\n",
              "    <path d=\"M0 0h24v24H0V0z\" fill=\"none\"/>\n",
              "    <path d=\"M18.56 5.44l.94 2.06.94-2.06 2.06-.94-2.06-.94-.94-2.06-.94 2.06-2.06.94zm-11 1L8.5 8.5l.94-2.06 2.06-.94-2.06-.94L8.5 2.5l-.94 2.06-2.06.94zm10 10l.94 2.06.94-2.06 2.06-.94-2.06-.94-.94-2.06-.94 2.06-2.06.94z\"/><path d=\"M17.41 7.96l-1.37-1.37c-.4-.4-.92-.59-1.43-.59-.52 0-1.04.2-1.43.59L10.3 9.45l-7.72 7.72c-.78.78-.78 2.05 0 2.83L4 21.41c.39.39.9.59 1.41.59.51 0 1.02-.2 1.41-.59l7.78-7.78 2.81-2.81c.8-.78.8-2.07 0-2.86zM5.41 20L4 18.59l7.72-7.72 1.47 1.35L5.41 20z\"/>\n",
              "  </svg>\n",
              "      </button>\n",
              "      \n",
              "  <style>\n",
              "    .colab-df-container {\n",
              "      display:flex;\n",
              "      flex-wrap:wrap;\n",
              "      gap: 12px;\n",
              "    }\n",
              "\n",
              "    .colab-df-convert {\n",
              "      background-color: #E8F0FE;\n",
              "      border: none;\n",
              "      border-radius: 50%;\n",
              "      cursor: pointer;\n",
              "      display: none;\n",
              "      fill: #1967D2;\n",
              "      height: 32px;\n",
              "      padding: 0 0 0 0;\n",
              "      width: 32px;\n",
              "    }\n",
              "\n",
              "    .colab-df-convert:hover {\n",
              "      background-color: #E2EBFA;\n",
              "      box-shadow: 0px 1px 2px rgba(60, 64, 67, 0.3), 0px 1px 3px 1px rgba(60, 64, 67, 0.15);\n",
              "      fill: #174EA6;\n",
              "    }\n",
              "\n",
              "    [theme=dark] .colab-df-convert {\n",
              "      background-color: #3B4455;\n",
              "      fill: #D2E3FC;\n",
              "    }\n",
              "\n",
              "    [theme=dark] .colab-df-convert:hover {\n",
              "      background-color: #434B5C;\n",
              "      box-shadow: 0px 1px 3px 1px rgba(0, 0, 0, 0.15);\n",
              "      filter: drop-shadow(0px 1px 2px rgba(0, 0, 0, 0.3));\n",
              "      fill: #FFFFFF;\n",
              "    }\n",
              "  </style>\n",
              "\n",
              "      <script>\n",
              "        const buttonEl =\n",
              "          document.querySelector('#df-a9147a4b-7f8e-408c-9a4c-a5df0c1bbd12 button.colab-df-convert');\n",
              "        buttonEl.style.display =\n",
              "          google.colab.kernel.accessAllowed ? 'block' : 'none';\n",
              "\n",
              "        async function convertToInteractive(key) {\n",
              "          const element = document.querySelector('#df-a9147a4b-7f8e-408c-9a4c-a5df0c1bbd12');\n",
              "          const dataTable =\n",
              "            await google.colab.kernel.invokeFunction('convertToInteractive',\n",
              "                                                     [key], {});\n",
              "          if (!dataTable) return;\n",
              "\n",
              "          const docLinkHtml = 'Like what you see? Visit the ' +\n",
              "            '<a target=\"_blank\" href=https://colab.research.google.com/notebooks/data_table.ipynb>data table notebook</a>'\n",
              "            + ' to learn more about interactive tables.';\n",
              "          element.innerHTML = '';\n",
              "          dataTable['output_type'] = 'display_data';\n",
              "          await google.colab.output.renderOutput(dataTable, element);\n",
              "          const docLink = document.createElement('div');\n",
              "          docLink.innerHTML = docLinkHtml;\n",
              "          element.appendChild(docLink);\n",
              "        }\n",
              "      </script>\n",
              "    </div>\n",
              "  </div>\n",
              "  "
            ]
          },
          "metadata": {},
          "execution_count": 78
        }
      ],
      "source": [
        "import numpy as np\n",
        "# Pandas is a kind of database tool used to load & manipulate data.\n",
        "import pandas as pd\n",
        "\n",
        "# Download the data using a .csv file link from -> https://github.com/ageron/handson-ml2\n",
        "# Follow kaggle dataset -> https://www.kaggle.com/datasets/camnugent/california-train-prices\n",
        "link = \"https://raw.githubusercontent.com/gagan-iitb/CS550/main/Prog_Assignments/train_NYTaxi.csv\"\n",
        "train = pd.read_csv(link, nrows=100000)\n",
        "train"
      ]
    },
    {
      "cell_type": "code",
      "execution_count": null,
      "metadata": {
        "colab": {
          "base_uri": "https://localhost:8080/",
          "height": 300
        },
        "id": "dQ19osNAatq5",
        "outputId": "69c08498-2bfe-443b-db59-0e693d60eee0"
      },
      "outputs": [
        {
          "output_type": "execute_result",
          "data": {
            "text/plain": [
              "          Unnamed: 0    fare_amount  pickup_longitude  pickup_latitude  \\\n",
              "count  100000.000000  100000.000000     100000.000000    100000.000000   \n",
              "mean    49999.500000      11.333564        -72.448815        39.887315   \n",
              "std     28867.657797       9.810826         10.869743         6.383817   \n",
              "min         0.000000      -9.300000       -736.516667       -74.015935   \n",
              "25%     24999.750000       6.000000        -73.992133        40.734793   \n",
              "50%     49999.500000       8.500000        -73.981850        40.752464   \n",
              "75%     74999.250000      12.500000        -73.967172        40.767032   \n",
              "max     99999.000000     394.000000         40.801777       404.666667   \n",
              "\n",
              "       dropoff_longitude  dropoff_latitude  passenger_count  \n",
              "count      100000.000000     100000.000000    100000.000000  \n",
              "mean          -72.479259         39.890066         1.682150  \n",
              "std            12.774264          6.260724         1.308617  \n",
              "min         -2319.633333        -74.011085         0.000000  \n",
              "25%           -73.991443         40.734034         1.000000  \n",
              "50%           -73.980214         40.753093         1.000000  \n",
              "75%           -73.963718         40.768042         2.000000  \n",
              "max            40.787037         44.640672         6.000000  "
            ],
            "text/html": [
              "\n",
              "  <div id=\"df-e0a2cf42-a469-4426-87a2-0d628b1a1d19\">\n",
              "    <div class=\"colab-df-container\">\n",
              "      <div>\n",
              "<style scoped>\n",
              "    .dataframe tbody tr th:only-of-type {\n",
              "        vertical-align: middle;\n",
              "    }\n",
              "\n",
              "    .dataframe tbody tr th {\n",
              "        vertical-align: top;\n",
              "    }\n",
              "\n",
              "    .dataframe thead th {\n",
              "        text-align: right;\n",
              "    }\n",
              "</style>\n",
              "<table border=\"1\" class=\"dataframe\">\n",
              "  <thead>\n",
              "    <tr style=\"text-align: right;\">\n",
              "      <th></th>\n",
              "      <th>Unnamed: 0</th>\n",
              "      <th>fare_amount</th>\n",
              "      <th>pickup_longitude</th>\n",
              "      <th>pickup_latitude</th>\n",
              "      <th>dropoff_longitude</th>\n",
              "      <th>dropoff_latitude</th>\n",
              "      <th>passenger_count</th>\n",
              "    </tr>\n",
              "  </thead>\n",
              "  <tbody>\n",
              "    <tr>\n",
              "      <th>count</th>\n",
              "      <td>100000.000000</td>\n",
              "      <td>100000.000000</td>\n",
              "      <td>100000.000000</td>\n",
              "      <td>100000.000000</td>\n",
              "      <td>100000.000000</td>\n",
              "      <td>100000.000000</td>\n",
              "      <td>100000.000000</td>\n",
              "    </tr>\n",
              "    <tr>\n",
              "      <th>mean</th>\n",
              "      <td>49999.500000</td>\n",
              "      <td>11.333564</td>\n",
              "      <td>-72.448815</td>\n",
              "      <td>39.887315</td>\n",
              "      <td>-72.479259</td>\n",
              "      <td>39.890066</td>\n",
              "      <td>1.682150</td>\n",
              "    </tr>\n",
              "    <tr>\n",
              "      <th>std</th>\n",
              "      <td>28867.657797</td>\n",
              "      <td>9.810826</td>\n",
              "      <td>10.869743</td>\n",
              "      <td>6.383817</td>\n",
              "      <td>12.774264</td>\n",
              "      <td>6.260724</td>\n",
              "      <td>1.308617</td>\n",
              "    </tr>\n",
              "    <tr>\n",
              "      <th>min</th>\n",
              "      <td>0.000000</td>\n",
              "      <td>-9.300000</td>\n",
              "      <td>-736.516667</td>\n",
              "      <td>-74.015935</td>\n",
              "      <td>-2319.633333</td>\n",
              "      <td>-74.011085</td>\n",
              "      <td>0.000000</td>\n",
              "    </tr>\n",
              "    <tr>\n",
              "      <th>25%</th>\n",
              "      <td>24999.750000</td>\n",
              "      <td>6.000000</td>\n",
              "      <td>-73.992133</td>\n",
              "      <td>40.734793</td>\n",
              "      <td>-73.991443</td>\n",
              "      <td>40.734034</td>\n",
              "      <td>1.000000</td>\n",
              "    </tr>\n",
              "    <tr>\n",
              "      <th>50%</th>\n",
              "      <td>49999.500000</td>\n",
              "      <td>8.500000</td>\n",
              "      <td>-73.981850</td>\n",
              "      <td>40.752464</td>\n",
              "      <td>-73.980214</td>\n",
              "      <td>40.753093</td>\n",
              "      <td>1.000000</td>\n",
              "    </tr>\n",
              "    <tr>\n",
              "      <th>75%</th>\n",
              "      <td>74999.250000</td>\n",
              "      <td>12.500000</td>\n",
              "      <td>-73.967172</td>\n",
              "      <td>40.767032</td>\n",
              "      <td>-73.963718</td>\n",
              "      <td>40.768042</td>\n",
              "      <td>2.000000</td>\n",
              "    </tr>\n",
              "    <tr>\n",
              "      <th>max</th>\n",
              "      <td>99999.000000</td>\n",
              "      <td>394.000000</td>\n",
              "      <td>40.801777</td>\n",
              "      <td>404.666667</td>\n",
              "      <td>40.787037</td>\n",
              "      <td>44.640672</td>\n",
              "      <td>6.000000</td>\n",
              "    </tr>\n",
              "  </tbody>\n",
              "</table>\n",
              "</div>\n",
              "      <button class=\"colab-df-convert\" onclick=\"convertToInteractive('df-e0a2cf42-a469-4426-87a2-0d628b1a1d19')\"\n",
              "              title=\"Convert this dataframe to an interactive table.\"\n",
              "              style=\"display:none;\">\n",
              "        \n",
              "  <svg xmlns=\"http://www.w3.org/2000/svg\" height=\"24px\"viewBox=\"0 0 24 24\"\n",
              "       width=\"24px\">\n",
              "    <path d=\"M0 0h24v24H0V0z\" fill=\"none\"/>\n",
              "    <path d=\"M18.56 5.44l.94 2.06.94-2.06 2.06-.94-2.06-.94-.94-2.06-.94 2.06-2.06.94zm-11 1L8.5 8.5l.94-2.06 2.06-.94-2.06-.94L8.5 2.5l-.94 2.06-2.06.94zm10 10l.94 2.06.94-2.06 2.06-.94-2.06-.94-.94-2.06-.94 2.06-2.06.94z\"/><path d=\"M17.41 7.96l-1.37-1.37c-.4-.4-.92-.59-1.43-.59-.52 0-1.04.2-1.43.59L10.3 9.45l-7.72 7.72c-.78.78-.78 2.05 0 2.83L4 21.41c.39.39.9.59 1.41.59.51 0 1.02-.2 1.41-.59l7.78-7.78 2.81-2.81c.8-.78.8-2.07 0-2.86zM5.41 20L4 18.59l7.72-7.72 1.47 1.35L5.41 20z\"/>\n",
              "  </svg>\n",
              "      </button>\n",
              "      \n",
              "  <style>\n",
              "    .colab-df-container {\n",
              "      display:flex;\n",
              "      flex-wrap:wrap;\n",
              "      gap: 12px;\n",
              "    }\n",
              "\n",
              "    .colab-df-convert {\n",
              "      background-color: #E8F0FE;\n",
              "      border: none;\n",
              "      border-radius: 50%;\n",
              "      cursor: pointer;\n",
              "      display: none;\n",
              "      fill: #1967D2;\n",
              "      height: 32px;\n",
              "      padding: 0 0 0 0;\n",
              "      width: 32px;\n",
              "    }\n",
              "\n",
              "    .colab-df-convert:hover {\n",
              "      background-color: #E2EBFA;\n",
              "      box-shadow: 0px 1px 2px rgba(60, 64, 67, 0.3), 0px 1px 3px 1px rgba(60, 64, 67, 0.15);\n",
              "      fill: #174EA6;\n",
              "    }\n",
              "\n",
              "    [theme=dark] .colab-df-convert {\n",
              "      background-color: #3B4455;\n",
              "      fill: #D2E3FC;\n",
              "    }\n",
              "\n",
              "    [theme=dark] .colab-df-convert:hover {\n",
              "      background-color: #434B5C;\n",
              "      box-shadow: 0px 1px 3px 1px rgba(0, 0, 0, 0.15);\n",
              "      filter: drop-shadow(0px 1px 2px rgba(0, 0, 0, 0.3));\n",
              "      fill: #FFFFFF;\n",
              "    }\n",
              "  </style>\n",
              "\n",
              "      <script>\n",
              "        const buttonEl =\n",
              "          document.querySelector('#df-e0a2cf42-a469-4426-87a2-0d628b1a1d19 button.colab-df-convert');\n",
              "        buttonEl.style.display =\n",
              "          google.colab.kernel.accessAllowed ? 'block' : 'none';\n",
              "\n",
              "        async function convertToInteractive(key) {\n",
              "          const element = document.querySelector('#df-e0a2cf42-a469-4426-87a2-0d628b1a1d19');\n",
              "          const dataTable =\n",
              "            await google.colab.kernel.invokeFunction('convertToInteractive',\n",
              "                                                     [key], {});\n",
              "          if (!dataTable) return;\n",
              "\n",
              "          const docLinkHtml = 'Like what you see? Visit the ' +\n",
              "            '<a target=\"_blank\" href=https://colab.research.google.com/notebooks/data_table.ipynb>data table notebook</a>'\n",
              "            + ' to learn more about interactive tables.';\n",
              "          element.innerHTML = '';\n",
              "          dataTable['output_type'] = 'display_data';\n",
              "          await google.colab.output.renderOutput(dataTable, element);\n",
              "          const docLink = document.createElement('div');\n",
              "          docLink.innerHTML = docLinkHtml;\n",
              "          element.appendChild(docLink);\n",
              "        }\n",
              "      </script>\n",
              "    </div>\n",
              "  </div>\n",
              "  "
            ]
          },
          "metadata": {},
          "execution_count": 79
        }
      ],
      "source": [
        "train.describe()\n"
      ]
    },
    {
      "cell_type": "code",
      "execution_count": null,
      "metadata": {
        "colab": {
          "base_uri": "https://localhost:8080/"
        },
        "id": "e-QOzRc5awlT",
        "outputId": "e0cc6dff-772e-4a4a-d306-f634699212cc"
      },
      "outputs": [
        {
          "output_type": "execute_result",
          "data": {
            "text/plain": [
              "Unnamed: 0                         int64\n",
              "key                       datetime64[ns]\n",
              "fare_amount                      float64\n",
              "pickup_datetime      datetime64[ns, UTC]\n",
              "pickup_longitude                 float64\n",
              "pickup_latitude                  float64\n",
              "dropoff_longitude                float64\n",
              "dropoff_latitude                 float64\n",
              "passenger_count                    int64\n",
              "dtype: object"
            ]
          },
          "metadata": {},
          "execution_count": 80
        }
      ],
      "source": [
        "train['key'] = pd.to_datetime(train['key'])\n",
        "train['pickup_datetime']  = pd.to_datetime(train['pickup_datetime'])\n",
        "train = train.drop(train[train['passenger_count']<=0].index, axis=0)\n",
        "train = train.drop(train[train['passenger_count']>=7].index, axis=0)\n",
        "train.dtypes"
      ]
    },
    {
      "cell_type": "code",
      "execution_count": null,
      "metadata": {
        "colab": {
          "base_uri": "https://localhost:8080/"
        },
        "id": "xs-ezvU4bYXf",
        "outputId": "cfc358ca-9d40-44b4-babb-02a44c716807"
      },
      "outputs": [
        {
          "output_type": "stream",
          "name": "stdout",
          "text": [
            "Shape of Train:  (99625, 9)\n"
          ]
        }
      ],
      "source": [
        "train = train.drop(train[train['fare_amount']<=0].index, axis=0)\n",
        "print(\"Shape of Train: \", train.shape)"
      ]
    },
    {
      "cell_type": "code",
      "execution_count": null,
      "metadata": {
        "colab": {
          "base_uri": "https://localhost:8080/",
          "height": 300
        },
        "id": "jHC_LEdVajHw",
        "outputId": "cdb763f8-94cb-4d29-d1d2-f99402bcb66a"
      },
      "outputs": [
        {
          "output_type": "execute_result",
          "data": {
            "text/plain": [
              "        fare_amount  pickup_longitude  pickup_latitude  dropoff_longitude  \\\n",
              "count  99625.000000      99625.000000     99625.000000       99625.000000   \n",
              "mean      11.342535        -72.446771        39.886106         -72.478086   \n",
              "std        9.821130         10.877680         6.389358          12.785593   \n",
              "min        0.010000       -736.516667       -74.015935       -2319.633333   \n",
              "25%        6.000000        -73.992133        40.734777         -73.991443   \n",
              "50%        8.500000        -73.981852        40.752459         -73.980216   \n",
              "75%       12.500000        -73.967173        40.767025         -73.963723   \n",
              "max      394.000000         40.801777       404.666667          40.787037   \n",
              "\n",
              "       dropoff_latitude  passenger_count  \n",
              "count      99625.000000     99625.000000  \n",
              "mean          39.889268         1.688381  \n",
              "std            6.264631         1.307039  \n",
              "min          -74.011085         1.000000  \n",
              "25%           40.734021         1.000000  \n",
              "50%           40.753082         1.000000  \n",
              "75%           40.768036         2.000000  \n",
              "max           44.640672         6.000000  "
            ],
            "text/html": [
              "\n",
              "  <div id=\"df-5e62efe8-08fe-4478-ba49-6c54495b90b8\">\n",
              "    <div class=\"colab-df-container\">\n",
              "      <div>\n",
              "<style scoped>\n",
              "    .dataframe tbody tr th:only-of-type {\n",
              "        vertical-align: middle;\n",
              "    }\n",
              "\n",
              "    .dataframe tbody tr th {\n",
              "        vertical-align: top;\n",
              "    }\n",
              "\n",
              "    .dataframe thead th {\n",
              "        text-align: right;\n",
              "    }\n",
              "</style>\n",
              "<table border=\"1\" class=\"dataframe\">\n",
              "  <thead>\n",
              "    <tr style=\"text-align: right;\">\n",
              "      <th></th>\n",
              "      <th>fare_amount</th>\n",
              "      <th>pickup_longitude</th>\n",
              "      <th>pickup_latitude</th>\n",
              "      <th>dropoff_longitude</th>\n",
              "      <th>dropoff_latitude</th>\n",
              "      <th>passenger_count</th>\n",
              "    </tr>\n",
              "  </thead>\n",
              "  <tbody>\n",
              "    <tr>\n",
              "      <th>count</th>\n",
              "      <td>99625.000000</td>\n",
              "      <td>99625.000000</td>\n",
              "      <td>99625.000000</td>\n",
              "      <td>99625.000000</td>\n",
              "      <td>99625.000000</td>\n",
              "      <td>99625.000000</td>\n",
              "    </tr>\n",
              "    <tr>\n",
              "      <th>mean</th>\n",
              "      <td>11.342535</td>\n",
              "      <td>-72.446771</td>\n",
              "      <td>39.886106</td>\n",
              "      <td>-72.478086</td>\n",
              "      <td>39.889268</td>\n",
              "      <td>1.688381</td>\n",
              "    </tr>\n",
              "    <tr>\n",
              "      <th>std</th>\n",
              "      <td>9.821130</td>\n",
              "      <td>10.877680</td>\n",
              "      <td>6.389358</td>\n",
              "      <td>12.785593</td>\n",
              "      <td>6.264631</td>\n",
              "      <td>1.307039</td>\n",
              "    </tr>\n",
              "    <tr>\n",
              "      <th>min</th>\n",
              "      <td>0.010000</td>\n",
              "      <td>-736.516667</td>\n",
              "      <td>-74.015935</td>\n",
              "      <td>-2319.633333</td>\n",
              "      <td>-74.011085</td>\n",
              "      <td>1.000000</td>\n",
              "    </tr>\n",
              "    <tr>\n",
              "      <th>25%</th>\n",
              "      <td>6.000000</td>\n",
              "      <td>-73.992133</td>\n",
              "      <td>40.734777</td>\n",
              "      <td>-73.991443</td>\n",
              "      <td>40.734021</td>\n",
              "      <td>1.000000</td>\n",
              "    </tr>\n",
              "    <tr>\n",
              "      <th>50%</th>\n",
              "      <td>8.500000</td>\n",
              "      <td>-73.981852</td>\n",
              "      <td>40.752459</td>\n",
              "      <td>-73.980216</td>\n",
              "      <td>40.753082</td>\n",
              "      <td>1.000000</td>\n",
              "    </tr>\n",
              "    <tr>\n",
              "      <th>75%</th>\n",
              "      <td>12.500000</td>\n",
              "      <td>-73.967173</td>\n",
              "      <td>40.767025</td>\n",
              "      <td>-73.963723</td>\n",
              "      <td>40.768036</td>\n",
              "      <td>2.000000</td>\n",
              "    </tr>\n",
              "    <tr>\n",
              "      <th>max</th>\n",
              "      <td>394.000000</td>\n",
              "      <td>40.801777</td>\n",
              "      <td>404.666667</td>\n",
              "      <td>40.787037</td>\n",
              "      <td>44.640672</td>\n",
              "      <td>6.000000</td>\n",
              "    </tr>\n",
              "  </tbody>\n",
              "</table>\n",
              "</div>\n",
              "      <button class=\"colab-df-convert\" onclick=\"convertToInteractive('df-5e62efe8-08fe-4478-ba49-6c54495b90b8')\"\n",
              "              title=\"Convert this dataframe to an interactive table.\"\n",
              "              style=\"display:none;\">\n",
              "        \n",
              "  <svg xmlns=\"http://www.w3.org/2000/svg\" height=\"24px\"viewBox=\"0 0 24 24\"\n",
              "       width=\"24px\">\n",
              "    <path d=\"M0 0h24v24H0V0z\" fill=\"none\"/>\n",
              "    <path d=\"M18.56 5.44l.94 2.06.94-2.06 2.06-.94-2.06-.94-.94-2.06-.94 2.06-2.06.94zm-11 1L8.5 8.5l.94-2.06 2.06-.94-2.06-.94L8.5 2.5l-.94 2.06-2.06.94zm10 10l.94 2.06.94-2.06 2.06-.94-2.06-.94-.94-2.06-.94 2.06-2.06.94z\"/><path d=\"M17.41 7.96l-1.37-1.37c-.4-.4-.92-.59-1.43-.59-.52 0-1.04.2-1.43.59L10.3 9.45l-7.72 7.72c-.78.78-.78 2.05 0 2.83L4 21.41c.39.39.9.59 1.41.59.51 0 1.02-.2 1.41-.59l7.78-7.78 2.81-2.81c.8-.78.8-2.07 0-2.86zM5.41 20L4 18.59l7.72-7.72 1.47 1.35L5.41 20z\"/>\n",
              "  </svg>\n",
              "      </button>\n",
              "      \n",
              "  <style>\n",
              "    .colab-df-container {\n",
              "      display:flex;\n",
              "      flex-wrap:wrap;\n",
              "      gap: 12px;\n",
              "    }\n",
              "\n",
              "    .colab-df-convert {\n",
              "      background-color: #E8F0FE;\n",
              "      border: none;\n",
              "      border-radius: 50%;\n",
              "      cursor: pointer;\n",
              "      display: none;\n",
              "      fill: #1967D2;\n",
              "      height: 32px;\n",
              "      padding: 0 0 0 0;\n",
              "      width: 32px;\n",
              "    }\n",
              "\n",
              "    .colab-df-convert:hover {\n",
              "      background-color: #E2EBFA;\n",
              "      box-shadow: 0px 1px 2px rgba(60, 64, 67, 0.3), 0px 1px 3px 1px rgba(60, 64, 67, 0.15);\n",
              "      fill: #174EA6;\n",
              "    }\n",
              "\n",
              "    [theme=dark] .colab-df-convert {\n",
              "      background-color: #3B4455;\n",
              "      fill: #D2E3FC;\n",
              "    }\n",
              "\n",
              "    [theme=dark] .colab-df-convert:hover {\n",
              "      background-color: #434B5C;\n",
              "      box-shadow: 0px 1px 3px 1px rgba(0, 0, 0, 0.15);\n",
              "      filter: drop-shadow(0px 1px 2px rgba(0, 0, 0, 0.3));\n",
              "      fill: #FFFFFF;\n",
              "    }\n",
              "  </style>\n",
              "\n",
              "      <script>\n",
              "        const buttonEl =\n",
              "          document.querySelector('#df-5e62efe8-08fe-4478-ba49-6c54495b90b8 button.colab-df-convert');\n",
              "        buttonEl.style.display =\n",
              "          google.colab.kernel.accessAllowed ? 'block' : 'none';\n",
              "\n",
              "        async function convertToInteractive(key) {\n",
              "          const element = document.querySelector('#df-5e62efe8-08fe-4478-ba49-6c54495b90b8');\n",
              "          const dataTable =\n",
              "            await google.colab.kernel.invokeFunction('convertToInteractive',\n",
              "                                                     [key], {});\n",
              "          if (!dataTable) return;\n",
              "\n",
              "          const docLinkHtml = 'Like what you see? Visit the ' +\n",
              "            '<a target=\"_blank\" href=https://colab.research.google.com/notebooks/data_table.ipynb>data table notebook</a>'\n",
              "            + ' to learn more about interactive tables.';\n",
              "          element.innerHTML = '';\n",
              "          dataTable['output_type'] = 'display_data';\n",
              "          await google.colab.output.renderOutput(dataTable, element);\n",
              "          const docLink = document.createElement('div');\n",
              "          docLink.innerHTML = docLinkHtml;\n",
              "          element.appendChild(docLink);\n",
              "        }\n",
              "      </script>\n",
              "    </div>\n",
              "  </div>\n",
              "  "
            ]
          },
          "metadata": {},
          "execution_count": 82
        }
      ],
      "source": [
        "train=train.drop(['Unnamed: 0'],axis=1)\n",
        "train.describe()"
      ]
    },
    {
      "cell_type": "code",
      "execution_count": null,
      "metadata": {
        "colab": {
          "base_uri": "https://localhost:8080/",
          "height": 641
        },
        "id": "S_wvOulYdjPP",
        "outputId": "6df04249-676d-48a0-a274-47faf5b53240"
      },
      "outputs": [
        {
          "output_type": "execute_result",
          "data": {
            "text/plain": [
              "                                key  fare_amount           pickup_datetime  \\\n",
              "19    2009-11-13 15:52:00.000000780          7.3 2009-11-13 15:52:00+00:00   \n",
              "32    2009-12-10 00:55:00.000000320         17.3 2009-12-10 00:55:00+00:00   \n",
              "38    2013-04-28 01:19:56.000000100         22.5 2013-04-28 01:19:56+00:00   \n",
              "39    2011-07-10 20:07:56.000000500         32.1 2011-07-10 20:07:56+00:00   \n",
              "103   2014-04-29 11:36:00.000000260         12.0 2014-04-29 11:36:00+00:00   \n",
              "...                             ...          ...                       ...   \n",
              "99775 2009-09-06 12:24:00.000000590          7.4 2009-09-06 12:24:00+00:00   \n",
              "99885 2014-06-12 13:04:45.000000700         23.5 2014-06-12 13:04:45+00:00   \n",
              "99929 2010-06-22 10:41:05.000000300          3.7 2010-06-22 10:41:05+00:00   \n",
              "99955 2014-05-25 00:02:00.000000880          3.0 2014-05-25 00:02:00+00:00   \n",
              "99962 2010-05-30 09:03:08.000000100          6.1 2010-05-30 09:03:08+00:00   \n",
              "\n",
              "       pickup_longitude  pickup_latitude  dropoff_longitude  dropoff_latitude  \\\n",
              "19              0.00000         0.000000           0.000000          0.000000   \n",
              "32              0.00000         0.000000           0.000000          0.000000   \n",
              "38              0.00000         0.000000           0.000000          0.000000   \n",
              "39              0.00000         0.000000           0.000000          0.000000   \n",
              "103             0.00000         0.000000           0.000000          0.000000   \n",
              "...                 ...              ...                ...               ...   \n",
              "99775         -71.06153        42.364088         -71.076242         42.367063   \n",
              "99885           0.00000         0.000000           0.000000          0.000000   \n",
              "99929           0.00000         0.000000           0.000000          0.000000   \n",
              "99955           0.00000         0.000000           0.000000          0.000000   \n",
              "99962           0.00000         0.000000           0.000000          0.000000   \n",
              "\n",
              "       passenger_count  \n",
              "19                   1  \n",
              "32                   1  \n",
              "38                   4  \n",
              "39                   2  \n",
              "103                  5  \n",
              "...                ...  \n",
              "99775                1  \n",
              "99885                2  \n",
              "99929                1  \n",
              "99955                1  \n",
              "99962                1  \n",
              "\n",
              "[2171 rows x 8 columns]"
            ],
            "text/html": [
              "\n",
              "  <div id=\"df-f3a23c72-c566-4b46-a2b0-00ca4867f390\">\n",
              "    <div class=\"colab-df-container\">\n",
              "      <div>\n",
              "<style scoped>\n",
              "    .dataframe tbody tr th:only-of-type {\n",
              "        vertical-align: middle;\n",
              "    }\n",
              "\n",
              "    .dataframe tbody tr th {\n",
              "        vertical-align: top;\n",
              "    }\n",
              "\n",
              "    .dataframe thead th {\n",
              "        text-align: right;\n",
              "    }\n",
              "</style>\n",
              "<table border=\"1\" class=\"dataframe\">\n",
              "  <thead>\n",
              "    <tr style=\"text-align: right;\">\n",
              "      <th></th>\n",
              "      <th>key</th>\n",
              "      <th>fare_amount</th>\n",
              "      <th>pickup_datetime</th>\n",
              "      <th>pickup_longitude</th>\n",
              "      <th>pickup_latitude</th>\n",
              "      <th>dropoff_longitude</th>\n",
              "      <th>dropoff_latitude</th>\n",
              "      <th>passenger_count</th>\n",
              "    </tr>\n",
              "  </thead>\n",
              "  <tbody>\n",
              "    <tr>\n",
              "      <th>19</th>\n",
              "      <td>2009-11-13 15:52:00.000000780</td>\n",
              "      <td>7.3</td>\n",
              "      <td>2009-11-13 15:52:00+00:00</td>\n",
              "      <td>0.00000</td>\n",
              "      <td>0.000000</td>\n",
              "      <td>0.000000</td>\n",
              "      <td>0.000000</td>\n",
              "      <td>1</td>\n",
              "    </tr>\n",
              "    <tr>\n",
              "      <th>32</th>\n",
              "      <td>2009-12-10 00:55:00.000000320</td>\n",
              "      <td>17.3</td>\n",
              "      <td>2009-12-10 00:55:00+00:00</td>\n",
              "      <td>0.00000</td>\n",
              "      <td>0.000000</td>\n",
              "      <td>0.000000</td>\n",
              "      <td>0.000000</td>\n",
              "      <td>1</td>\n",
              "    </tr>\n",
              "    <tr>\n",
              "      <th>38</th>\n",
              "      <td>2013-04-28 01:19:56.000000100</td>\n",
              "      <td>22.5</td>\n",
              "      <td>2013-04-28 01:19:56+00:00</td>\n",
              "      <td>0.00000</td>\n",
              "      <td>0.000000</td>\n",
              "      <td>0.000000</td>\n",
              "      <td>0.000000</td>\n",
              "      <td>4</td>\n",
              "    </tr>\n",
              "    <tr>\n",
              "      <th>39</th>\n",
              "      <td>2011-07-10 20:07:56.000000500</td>\n",
              "      <td>32.1</td>\n",
              "      <td>2011-07-10 20:07:56+00:00</td>\n",
              "      <td>0.00000</td>\n",
              "      <td>0.000000</td>\n",
              "      <td>0.000000</td>\n",
              "      <td>0.000000</td>\n",
              "      <td>2</td>\n",
              "    </tr>\n",
              "    <tr>\n",
              "      <th>103</th>\n",
              "      <td>2014-04-29 11:36:00.000000260</td>\n",
              "      <td>12.0</td>\n",
              "      <td>2014-04-29 11:36:00+00:00</td>\n",
              "      <td>0.00000</td>\n",
              "      <td>0.000000</td>\n",
              "      <td>0.000000</td>\n",
              "      <td>0.000000</td>\n",
              "      <td>5</td>\n",
              "    </tr>\n",
              "    <tr>\n",
              "      <th>...</th>\n",
              "      <td>...</td>\n",
              "      <td>...</td>\n",
              "      <td>...</td>\n",
              "      <td>...</td>\n",
              "      <td>...</td>\n",
              "      <td>...</td>\n",
              "      <td>...</td>\n",
              "      <td>...</td>\n",
              "    </tr>\n",
              "    <tr>\n",
              "      <th>99775</th>\n",
              "      <td>2009-09-06 12:24:00.000000590</td>\n",
              "      <td>7.4</td>\n",
              "      <td>2009-09-06 12:24:00+00:00</td>\n",
              "      <td>-71.06153</td>\n",
              "      <td>42.364088</td>\n",
              "      <td>-71.076242</td>\n",
              "      <td>42.367063</td>\n",
              "      <td>1</td>\n",
              "    </tr>\n",
              "    <tr>\n",
              "      <th>99885</th>\n",
              "      <td>2014-06-12 13:04:45.000000700</td>\n",
              "      <td>23.5</td>\n",
              "      <td>2014-06-12 13:04:45+00:00</td>\n",
              "      <td>0.00000</td>\n",
              "      <td>0.000000</td>\n",
              "      <td>0.000000</td>\n",
              "      <td>0.000000</td>\n",
              "      <td>2</td>\n",
              "    </tr>\n",
              "    <tr>\n",
              "      <th>99929</th>\n",
              "      <td>2010-06-22 10:41:05.000000300</td>\n",
              "      <td>3.7</td>\n",
              "      <td>2010-06-22 10:41:05+00:00</td>\n",
              "      <td>0.00000</td>\n",
              "      <td>0.000000</td>\n",
              "      <td>0.000000</td>\n",
              "      <td>0.000000</td>\n",
              "      <td>1</td>\n",
              "    </tr>\n",
              "    <tr>\n",
              "      <th>99955</th>\n",
              "      <td>2014-05-25 00:02:00.000000880</td>\n",
              "      <td>3.0</td>\n",
              "      <td>2014-05-25 00:02:00+00:00</td>\n",
              "      <td>0.00000</td>\n",
              "      <td>0.000000</td>\n",
              "      <td>0.000000</td>\n",
              "      <td>0.000000</td>\n",
              "      <td>1</td>\n",
              "    </tr>\n",
              "    <tr>\n",
              "      <th>99962</th>\n",
              "      <td>2010-05-30 09:03:08.000000100</td>\n",
              "      <td>6.1</td>\n",
              "      <td>2010-05-30 09:03:08+00:00</td>\n",
              "      <td>0.00000</td>\n",
              "      <td>0.000000</td>\n",
              "      <td>0.000000</td>\n",
              "      <td>0.000000</td>\n",
              "      <td>1</td>\n",
              "    </tr>\n",
              "  </tbody>\n",
              "</table>\n",
              "<p>2171 rows × 8 columns</p>\n",
              "</div>\n",
              "      <button class=\"colab-df-convert\" onclick=\"convertToInteractive('df-f3a23c72-c566-4b46-a2b0-00ca4867f390')\"\n",
              "              title=\"Convert this dataframe to an interactive table.\"\n",
              "              style=\"display:none;\">\n",
              "        \n",
              "  <svg xmlns=\"http://www.w3.org/2000/svg\" height=\"24px\"viewBox=\"0 0 24 24\"\n",
              "       width=\"24px\">\n",
              "    <path d=\"M0 0h24v24H0V0z\" fill=\"none\"/>\n",
              "    <path d=\"M18.56 5.44l.94 2.06.94-2.06 2.06-.94-2.06-.94-.94-2.06-.94 2.06-2.06.94zm-11 1L8.5 8.5l.94-2.06 2.06-.94-2.06-.94L8.5 2.5l-.94 2.06-2.06.94zm10 10l.94 2.06.94-2.06 2.06-.94-2.06-.94-.94-2.06-.94 2.06-2.06.94z\"/><path d=\"M17.41 7.96l-1.37-1.37c-.4-.4-.92-.59-1.43-.59-.52 0-1.04.2-1.43.59L10.3 9.45l-7.72 7.72c-.78.78-.78 2.05 0 2.83L4 21.41c.39.39.9.59 1.41.59.51 0 1.02-.2 1.41-.59l7.78-7.78 2.81-2.81c.8-.78.8-2.07 0-2.86zM5.41 20L4 18.59l7.72-7.72 1.47 1.35L5.41 20z\"/>\n",
              "  </svg>\n",
              "      </button>\n",
              "      \n",
              "  <style>\n",
              "    .colab-df-container {\n",
              "      display:flex;\n",
              "      flex-wrap:wrap;\n",
              "      gap: 12px;\n",
              "    }\n",
              "\n",
              "    .colab-df-convert {\n",
              "      background-color: #E8F0FE;\n",
              "      border: none;\n",
              "      border-radius: 50%;\n",
              "      cursor: pointer;\n",
              "      display: none;\n",
              "      fill: #1967D2;\n",
              "      height: 32px;\n",
              "      padding: 0 0 0 0;\n",
              "      width: 32px;\n",
              "    }\n",
              "\n",
              "    .colab-df-convert:hover {\n",
              "      background-color: #E2EBFA;\n",
              "      box-shadow: 0px 1px 2px rgba(60, 64, 67, 0.3), 0px 1px 3px 1px rgba(60, 64, 67, 0.15);\n",
              "      fill: #174EA6;\n",
              "    }\n",
              "\n",
              "    [theme=dark] .colab-df-convert {\n",
              "      background-color: #3B4455;\n",
              "      fill: #D2E3FC;\n",
              "    }\n",
              "\n",
              "    [theme=dark] .colab-df-convert:hover {\n",
              "      background-color: #434B5C;\n",
              "      box-shadow: 0px 1px 3px 1px rgba(0, 0, 0, 0.15);\n",
              "      filter: drop-shadow(0px 1px 2px rgba(0, 0, 0, 0.3));\n",
              "      fill: #FFFFFF;\n",
              "    }\n",
              "  </style>\n",
              "\n",
              "      <script>\n",
              "        const buttonEl =\n",
              "          document.querySelector('#df-f3a23c72-c566-4b46-a2b0-00ca4867f390 button.colab-df-convert');\n",
              "        buttonEl.style.display =\n",
              "          google.colab.kernel.accessAllowed ? 'block' : 'none';\n",
              "\n",
              "        async function convertToInteractive(key) {\n",
              "          const element = document.querySelector('#df-f3a23c72-c566-4b46-a2b0-00ca4867f390');\n",
              "          const dataTable =\n",
              "            await google.colab.kernel.invokeFunction('convertToInteractive',\n",
              "                                                     [key], {});\n",
              "          if (!dataTable) return;\n",
              "\n",
              "          const docLinkHtml = 'Like what you see? Visit the ' +\n",
              "            '<a target=\"_blank\" href=https://colab.research.google.com/notebooks/data_table.ipynb>data table notebook</a>'\n",
              "            + ' to learn more about interactive tables.';\n",
              "          element.innerHTML = '';\n",
              "          dataTable['output_type'] = 'display_data';\n",
              "          await google.colab.output.renderOutput(dataTable, element);\n",
              "          const docLink = document.createElement('div');\n",
              "          docLink.innerHTML = docLinkHtml;\n",
              "          element.appendChild(docLink);\n",
              "        }\n",
              "      </script>\n",
              "    </div>\n",
              "  </div>\n",
              "  "
            ]
          },
          "metadata": {},
          "execution_count": 83
        }
      ],
      "source": [
        "def select_outside_boundingbox(df, BB):\n",
        "    filter_df = df.loc[(df['pickup_longitude'] < BB[0]) | (df['pickup_longitude'] > BB[1]) | \\\n",
        "           (df['pickup_latitude'] < BB[2]) | (df['pickup_latitude'] > BB[3]) | \\\n",
        "           (df['dropoff_longitude'] < BB[0]) | (df['dropoff_longitude'] > BB[1]) | \\\n",
        "           (df['dropoff_latitude'] < BB[2]) | (df['dropoff_latitude'] > BB[3])]\n",
        "    return filter_df\n",
        "\n",
        "NYC_BB = (-74.5, -72.8, 40.5, 41.8)\n",
        "train_outliers = select_outside_boundingbox(train, NYC_BB)\n",
        "train_outliers\n"
      ]
    },
    {
      "cell_type": "code",
      "execution_count": null,
      "metadata": {
        "id": "YuMG74GSdpGg"
      },
      "outputs": [],
      "source": [
        "# Remove the outliers from the train dataframe\n",
        "train = train.drop(train_outliers.index, axis=0)"
      ]
    },
    {
      "cell_type": "code",
      "execution_count": null,
      "metadata": {
        "id": "hGanAST0dww-"
      },
      "outputs": [],
      "source": [
        "data = [train]\n",
        "\n",
        "for i in data:\n",
        "    i[\"hour\"] = i.pickup_datetime.dt.hour\n",
        "    i[\"day_of_week\"] = i.pickup_datetime.dt.weekday\n",
        "    i[\"day_of_month\"] = i.pickup_datetime.dt.day\n",
        "    i[\"week\"] = i.pickup_datetime.dt.isocalendar().week\n",
        "    i[\"month\"] = i.pickup_datetime.dt.month\n",
        "    i[\"year\"] = i.pickup_datetime.dt.year\n",
        "# Remove the pickup_datetime column since it's no longer needed\n",
        "train = train.drop(['pickup_datetime'], axis=1)\n",
        "train = train.drop(['key'], axis=1)\n"
      ]
    },
    {
      "cell_type": "code",
      "execution_count": null,
      "metadata": {
        "colab": {
          "base_uri": "https://localhost:8080/"
        },
        "id": "os1KZpk7dxsr",
        "outputId": "26cb5aa4-92ae-4d07-8dfb-8c030bc15235"
      },
      "outputs": [
        {
          "output_type": "execute_result",
          "data": {
            "text/plain": [
              "count    97454.000000\n",
              "mean        25.458698\n",
              "std         14.940423\n",
              "min          1.000000\n",
              "25%         13.000000\n",
              "50%         24.000000\n",
              "75%         39.000000\n",
              "max         53.000000\n",
              "Name: week, dtype: float64"
            ]
          },
          "metadata": {},
          "execution_count": 86
        }
      ],
      "source": [
        "train['week'].describe()"
      ]
    },
    {
      "cell_type": "code",
      "execution_count": null,
      "metadata": {
        "id": "Wu43XvaQfWGC"
      },
      "outputs": [],
      "source": [
        "def haversine_distance(lat1, long1, lat2, long2):\n",
        "    data=[train]\n",
        "    for i in data:\n",
        "        R = 6371  #radius of earth in kilometers\n",
        "        phi1 = np.radians(i[lat1])\n",
        "        phi2 = np.radians(i[lat2])\n",
        "\n",
        "        delta_phi = np.radians(i[lat2]-i[lat1])\n",
        "        delta_lambda = np.radians(i[long2]-i[long1])\n",
        "\n",
        "        #a = sin²((φB - φA)/2) + cos φA . cos φB . sin²((λB - λA)/2)\n",
        "        a = np.sin(delta_phi / 2.0) ** 2 + np.cos(phi1) * np.cos(phi2) * np.sin(delta_lambda / 2.0) ** 2\n",
        "\n",
        "        #c = 2 * atan2( √a, √(1−a) )\n",
        "        c = 2 * np.arctan2(np.sqrt(a), np.sqrt(1-a))\n",
        "\n",
        "        #d = R*c\n",
        "        d = (R * c) #in kilometers\n",
        "        i['H_Distance'] = d\n",
        "    return d\n",
        "#haversine_distance('pickup_latitude', 'pickup_longitude', 'dropoff_latitude', 'dropoff_longitude')\n"
      ]
    },
    {
      "cell_type": "code",
      "execution_count": null,
      "metadata": {
        "colab": {
          "base_uri": "https://localhost:8080/",
          "height": 364
        },
        "id": "HNUyYp-pfX9D",
        "outputId": "2f2fb7f8-1912-4cc1-eafe-0395dabbe06d"
      },
      "outputs": [
        {
          "output_type": "execute_result",
          "data": {
            "text/plain": [
              "        fare_amount  pickup_longitude  pickup_latitude  dropoff_longitude  \\\n",
              "count  97454.000000      97454.000000     97454.000000       97454.000000   \n",
              "mean      11.327454        -73.975117        40.751083         -73.974409   \n",
              "std        9.746688          0.039383         0.030014           0.038036   \n",
              "min        0.010000        -74.478387        40.504195         -74.478387   \n",
              "25%        6.000000        -73.992353        40.736398         -73.991646   \n",
              "50%        8.500000        -73.982133        40.753204         -73.980688   \n",
              "75%       12.500000        -73.968445        40.767478         -73.965488   \n",
              "max      394.000000        -73.044891        41.366138         -73.044891   \n",
              "\n",
              "       dropoff_latitude  passenger_count          hour   day_of_week  \\\n",
              "count      97454.000000     97454.000000  97454.000000  97454.000000   \n",
              "mean          40.751454         1.687391     13.516059      3.029747   \n",
              "std            0.033050         1.305450      6.512290      1.950057   \n",
              "min           40.505522         1.000000      0.000000      0.000000   \n",
              "25%           40.735617         1.000000      9.000000      1.000000   \n",
              "50%           40.753842         1.000000     14.000000      3.000000   \n",
              "75%           40.768385         2.000000     19.000000      5.000000   \n",
              "max           41.524688         6.000000     23.000000      6.000000   \n",
              "\n",
              "       day_of_month          week         month          year    H_Distance  \n",
              "count  97454.000000  97454.000000  97454.000000  97454.000000  97454.000000  \n",
              "mean      15.684651     25.458698      6.268096   2011.737363      3.331275  \n",
              "std        8.691222     14.940423      3.435422      1.865108      3.804709  \n",
              "min        1.000000      1.000000      1.000000   2009.000000      0.000000  \n",
              "25%        8.000000     13.000000      3.000000   2010.000000      1.258019  \n",
              "50%       16.000000     24.000000      6.000000   2012.000000      2.150080  \n",
              "75%       23.000000     39.000000      9.000000   2013.000000      3.926122  \n",
              "max       31.000000     53.000000     12.000000   2015.000000    103.645956  "
            ],
            "text/html": [
              "\n",
              "  <div id=\"df-30383a2d-b8ec-4a40-9dcf-4211246b2807\">\n",
              "    <div class=\"colab-df-container\">\n",
              "      <div>\n",
              "<style scoped>\n",
              "    .dataframe tbody tr th:only-of-type {\n",
              "        vertical-align: middle;\n",
              "    }\n",
              "\n",
              "    .dataframe tbody tr th {\n",
              "        vertical-align: top;\n",
              "    }\n",
              "\n",
              "    .dataframe thead th {\n",
              "        text-align: right;\n",
              "    }\n",
              "</style>\n",
              "<table border=\"1\" class=\"dataframe\">\n",
              "  <thead>\n",
              "    <tr style=\"text-align: right;\">\n",
              "      <th></th>\n",
              "      <th>fare_amount</th>\n",
              "      <th>pickup_longitude</th>\n",
              "      <th>pickup_latitude</th>\n",
              "      <th>dropoff_longitude</th>\n",
              "      <th>dropoff_latitude</th>\n",
              "      <th>passenger_count</th>\n",
              "      <th>hour</th>\n",
              "      <th>day_of_week</th>\n",
              "      <th>day_of_month</th>\n",
              "      <th>week</th>\n",
              "      <th>month</th>\n",
              "      <th>year</th>\n",
              "      <th>H_Distance</th>\n",
              "    </tr>\n",
              "  </thead>\n",
              "  <tbody>\n",
              "    <tr>\n",
              "      <th>count</th>\n",
              "      <td>97454.000000</td>\n",
              "      <td>97454.000000</td>\n",
              "      <td>97454.000000</td>\n",
              "      <td>97454.000000</td>\n",
              "      <td>97454.000000</td>\n",
              "      <td>97454.000000</td>\n",
              "      <td>97454.000000</td>\n",
              "      <td>97454.000000</td>\n",
              "      <td>97454.000000</td>\n",
              "      <td>97454.000000</td>\n",
              "      <td>97454.000000</td>\n",
              "      <td>97454.000000</td>\n",
              "      <td>97454.000000</td>\n",
              "    </tr>\n",
              "    <tr>\n",
              "      <th>mean</th>\n",
              "      <td>11.327454</td>\n",
              "      <td>-73.975117</td>\n",
              "      <td>40.751083</td>\n",
              "      <td>-73.974409</td>\n",
              "      <td>40.751454</td>\n",
              "      <td>1.687391</td>\n",
              "      <td>13.516059</td>\n",
              "      <td>3.029747</td>\n",
              "      <td>15.684651</td>\n",
              "      <td>25.458698</td>\n",
              "      <td>6.268096</td>\n",
              "      <td>2011.737363</td>\n",
              "      <td>3.331275</td>\n",
              "    </tr>\n",
              "    <tr>\n",
              "      <th>std</th>\n",
              "      <td>9.746688</td>\n",
              "      <td>0.039383</td>\n",
              "      <td>0.030014</td>\n",
              "      <td>0.038036</td>\n",
              "      <td>0.033050</td>\n",
              "      <td>1.305450</td>\n",
              "      <td>6.512290</td>\n",
              "      <td>1.950057</td>\n",
              "      <td>8.691222</td>\n",
              "      <td>14.940423</td>\n",
              "      <td>3.435422</td>\n",
              "      <td>1.865108</td>\n",
              "      <td>3.804709</td>\n",
              "    </tr>\n",
              "    <tr>\n",
              "      <th>min</th>\n",
              "      <td>0.010000</td>\n",
              "      <td>-74.478387</td>\n",
              "      <td>40.504195</td>\n",
              "      <td>-74.478387</td>\n",
              "      <td>40.505522</td>\n",
              "      <td>1.000000</td>\n",
              "      <td>0.000000</td>\n",
              "      <td>0.000000</td>\n",
              "      <td>1.000000</td>\n",
              "      <td>1.000000</td>\n",
              "      <td>1.000000</td>\n",
              "      <td>2009.000000</td>\n",
              "      <td>0.000000</td>\n",
              "    </tr>\n",
              "    <tr>\n",
              "      <th>25%</th>\n",
              "      <td>6.000000</td>\n",
              "      <td>-73.992353</td>\n",
              "      <td>40.736398</td>\n",
              "      <td>-73.991646</td>\n",
              "      <td>40.735617</td>\n",
              "      <td>1.000000</td>\n",
              "      <td>9.000000</td>\n",
              "      <td>1.000000</td>\n",
              "      <td>8.000000</td>\n",
              "      <td>13.000000</td>\n",
              "      <td>3.000000</td>\n",
              "      <td>2010.000000</td>\n",
              "      <td>1.258019</td>\n",
              "    </tr>\n",
              "    <tr>\n",
              "      <th>50%</th>\n",
              "      <td>8.500000</td>\n",
              "      <td>-73.982133</td>\n",
              "      <td>40.753204</td>\n",
              "      <td>-73.980688</td>\n",
              "      <td>40.753842</td>\n",
              "      <td>1.000000</td>\n",
              "      <td>14.000000</td>\n",
              "      <td>3.000000</td>\n",
              "      <td>16.000000</td>\n",
              "      <td>24.000000</td>\n",
              "      <td>6.000000</td>\n",
              "      <td>2012.000000</td>\n",
              "      <td>2.150080</td>\n",
              "    </tr>\n",
              "    <tr>\n",
              "      <th>75%</th>\n",
              "      <td>12.500000</td>\n",
              "      <td>-73.968445</td>\n",
              "      <td>40.767478</td>\n",
              "      <td>-73.965488</td>\n",
              "      <td>40.768385</td>\n",
              "      <td>2.000000</td>\n",
              "      <td>19.000000</td>\n",
              "      <td>5.000000</td>\n",
              "      <td>23.000000</td>\n",
              "      <td>39.000000</td>\n",
              "      <td>9.000000</td>\n",
              "      <td>2013.000000</td>\n",
              "      <td>3.926122</td>\n",
              "    </tr>\n",
              "    <tr>\n",
              "      <th>max</th>\n",
              "      <td>394.000000</td>\n",
              "      <td>-73.044891</td>\n",
              "      <td>41.366138</td>\n",
              "      <td>-73.044891</td>\n",
              "      <td>41.524688</td>\n",
              "      <td>6.000000</td>\n",
              "      <td>23.000000</td>\n",
              "      <td>6.000000</td>\n",
              "      <td>31.000000</td>\n",
              "      <td>53.000000</td>\n",
              "      <td>12.000000</td>\n",
              "      <td>2015.000000</td>\n",
              "      <td>103.645956</td>\n",
              "    </tr>\n",
              "  </tbody>\n",
              "</table>\n",
              "</div>\n",
              "      <button class=\"colab-df-convert\" onclick=\"convertToInteractive('df-30383a2d-b8ec-4a40-9dcf-4211246b2807')\"\n",
              "              title=\"Convert this dataframe to an interactive table.\"\n",
              "              style=\"display:none;\">\n",
              "        \n",
              "  <svg xmlns=\"http://www.w3.org/2000/svg\" height=\"24px\"viewBox=\"0 0 24 24\"\n",
              "       width=\"24px\">\n",
              "    <path d=\"M0 0h24v24H0V0z\" fill=\"none\"/>\n",
              "    <path d=\"M18.56 5.44l.94 2.06.94-2.06 2.06-.94-2.06-.94-.94-2.06-.94 2.06-2.06.94zm-11 1L8.5 8.5l.94-2.06 2.06-.94-2.06-.94L8.5 2.5l-.94 2.06-2.06.94zm10 10l.94 2.06.94-2.06 2.06-.94-2.06-.94-.94-2.06-.94 2.06-2.06.94z\"/><path d=\"M17.41 7.96l-1.37-1.37c-.4-.4-.92-.59-1.43-.59-.52 0-1.04.2-1.43.59L10.3 9.45l-7.72 7.72c-.78.78-.78 2.05 0 2.83L4 21.41c.39.39.9.59 1.41.59.51 0 1.02-.2 1.41-.59l7.78-7.78 2.81-2.81c.8-.78.8-2.07 0-2.86zM5.41 20L4 18.59l7.72-7.72 1.47 1.35L5.41 20z\"/>\n",
              "  </svg>\n",
              "      </button>\n",
              "      \n",
              "  <style>\n",
              "    .colab-df-container {\n",
              "      display:flex;\n",
              "      flex-wrap:wrap;\n",
              "      gap: 12px;\n",
              "    }\n",
              "\n",
              "    .colab-df-convert {\n",
              "      background-color: #E8F0FE;\n",
              "      border: none;\n",
              "      border-radius: 50%;\n",
              "      cursor: pointer;\n",
              "      display: none;\n",
              "      fill: #1967D2;\n",
              "      height: 32px;\n",
              "      padding: 0 0 0 0;\n",
              "      width: 32px;\n",
              "    }\n",
              "\n",
              "    .colab-df-convert:hover {\n",
              "      background-color: #E2EBFA;\n",
              "      box-shadow: 0px 1px 2px rgba(60, 64, 67, 0.3), 0px 1px 3px 1px rgba(60, 64, 67, 0.15);\n",
              "      fill: #174EA6;\n",
              "    }\n",
              "\n",
              "    [theme=dark] .colab-df-convert {\n",
              "      background-color: #3B4455;\n",
              "      fill: #D2E3FC;\n",
              "    }\n",
              "\n",
              "    [theme=dark] .colab-df-convert:hover {\n",
              "      background-color: #434B5C;\n",
              "      box-shadow: 0px 1px 3px 1px rgba(0, 0, 0, 0.15);\n",
              "      filter: drop-shadow(0px 1px 2px rgba(0, 0, 0, 0.3));\n",
              "      fill: #FFFFFF;\n",
              "    }\n",
              "  </style>\n",
              "\n",
              "      <script>\n",
              "        const buttonEl =\n",
              "          document.querySelector('#df-30383a2d-b8ec-4a40-9dcf-4211246b2807 button.colab-df-convert');\n",
              "        buttonEl.style.display =\n",
              "          google.colab.kernel.accessAllowed ? 'block' : 'none';\n",
              "\n",
              "        async function convertToInteractive(key) {\n",
              "          const element = document.querySelector('#df-30383a2d-b8ec-4a40-9dcf-4211246b2807');\n",
              "          const dataTable =\n",
              "            await google.colab.kernel.invokeFunction('convertToInteractive',\n",
              "                                                     [key], {});\n",
              "          if (!dataTable) return;\n",
              "\n",
              "          const docLinkHtml = 'Like what you see? Visit the ' +\n",
              "            '<a target=\"_blank\" href=https://colab.research.google.com/notebooks/data_table.ipynb>data table notebook</a>'\n",
              "            + ' to learn more about interactive tables.';\n",
              "          element.innerHTML = '';\n",
              "          dataTable['output_type'] = 'display_data';\n",
              "          await google.colab.output.renderOutput(dataTable, element);\n",
              "          const docLink = document.createElement('div');\n",
              "          docLink.innerHTML = docLinkHtml;\n",
              "          element.appendChild(docLink);\n",
              "        }\n",
              "      </script>\n",
              "    </div>\n",
              "  </div>\n",
              "  "
            ]
          },
          "metadata": {},
          "execution_count": 88
        }
      ],
      "source": [
        "havers=haversine_distance('pickup_latitude', 'pickup_longitude', 'dropoff_latitude', 'dropoff_longitude')\n",
        "havers\n",
        "train.describe()"
      ]
    },
    {
      "cell_type": "code",
      "execution_count": null,
      "metadata": {
        "id": "7ryE7aAsfnh3"
      },
      "outputs": [],
      "source": [
        "axes=[\"hour\",\"month\",\"day_of_week\",\"week\",'pickup_latitude', 'pickup_longitude', 'dropoff_latitude', 'dropoff_longitude','H_Distance']\n",
        "for x in train[axes]:\n",
        "    q75,q25 = np.percentile(train.loc[:,x],[75,25])\n",
        "    intr_qr = q75-q25\n",
        "\n",
        "    max = q75+(1.5*intr_qr)\n",
        "    min = q25-(1.5*intr_qr)\n",
        "\n",
        "    train.loc[train[x] < min,x] = np.nan\n",
        "    train.loc[train[x] > max,x] = np.nan"
      ]
    },
    {
      "cell_type": "code",
      "execution_count": null,
      "metadata": {
        "colab": {
          "base_uri": "https://localhost:8080/"
        },
        "id": "u0xBzWqFfofo",
        "outputId": "5b064f7d-1a9d-4b66-e6c2-50e6a8d114dc"
      },
      "outputs": [
        {
          "output_type": "stream",
          "name": "stdout",
          "text": [
            "        fare_amount  pickup_longitude  pickup_latitude  dropoff_longitude  \\\n",
            "count  84598.000000      84598.000000     84598.000000       84598.000000   \n",
            "mean       8.888880        -73.981954        40.752634         -73.980892   \n",
            "std        4.675617          0.016102         0.021316           0.016998   \n",
            "min        0.010000        -74.028080        40.689787         -74.029840   \n",
            "25%        5.700000        -73.992888        40.738010         -73.992317   \n",
            "50%        7.700000        -73.982942        40.753328         -73.982136   \n",
            "75%       10.900000        -73.971574        40.766464         -73.970301   \n",
            "max      155.330000        -73.932602        40.814060         -73.926254   \n",
            "\n",
            "       dropoff_latitude  passenger_count          hour   day_of_week  \\\n",
            "count      84598.000000     84598.000000  84598.000000  84598.000000   \n",
            "mean          40.752809         1.683574     13.659212      3.013948   \n",
            "std            0.022678         1.303576      6.367950      1.940988   \n",
            "min           40.686500         1.000000      0.000000      0.000000   \n",
            "25%           40.738010         1.000000      9.000000      1.000000   \n",
            "50%           40.754041         1.000000     14.000000      3.000000   \n",
            "75%           40.767330         2.000000     19.000000      5.000000   \n",
            "max           40.817510         6.000000     23.000000      6.000000   \n",
            "\n",
            "       day_of_month          week         month          year    H_Distance  \n",
            "count  84598.000000  84598.000000  84598.000000  84598.000000  84598.000000  \n",
            "mean      15.672120     25.409312      6.257630   2011.728173      2.355334  \n",
            "std        8.697831     14.944764      3.436825      1.864961      1.579037  \n",
            "min        1.000000      1.000000      1.000000   2009.000000      0.000000  \n",
            "25%        8.000000     13.000000      3.000000   2010.000000      1.186162  \n",
            "50%       16.000000     24.000000      6.000000   2012.000000      1.930345  \n",
            "75%       23.000000     39.000000      9.000000   2013.000000      3.145976  \n",
            "max       31.000000     53.000000     12.000000   2015.000000      7.926335   (84598, 13)\n"
          ]
        }
      ],
      "source": [
        "train.isnull().sum()\n",
        "train=train.dropna()\n",
        "\n",
        "print(train.describe(),train.shape)"
      ]
    },
    {
      "cell_type": "code",
      "execution_count": null,
      "metadata": {
        "id": "aBHnpxx5geKq"
      },
      "outputs": [],
      "source": [
        "# Lets filter the rows where both distance and fare are available\n",
        "filtered = train[(train['H_Distance'] > 0) & (train['fare_amount'] > 0)]\n",
        "# We need a column with fare_amount / H_Distance\n",
        "Average_Fare_Per_Km = (filtered['fare_amount'] / filtered['H_Distance']).mean()\n"
      ]
    },
    {
      "cell_type": "code",
      "execution_count": null,
      "metadata": {
        "colab": {
          "base_uri": "https://localhost:8080/"
        },
        "id": "Z_M3U8JLhBo_",
        "outputId": "93996a5b-834b-45ae-c3e5-23fa3783dac9"
      },
      "outputs": [
        {
          "output_type": "execute_result",
          "data": {
            "text/plain": [
              "38.63224474462533"
            ]
          },
          "metadata": {},
          "execution_count": 92
        }
      ],
      "source": [
        "Average_Fare_Per_Km"
      ]
    },
    {
      "cell_type": "code",
      "execution_count": null,
      "metadata": {
        "colab": {
          "base_uri": "https://localhost:8080/",
          "height": 382
        },
        "id": "faU4BRO1gqxs",
        "outputId": "2b328f34-1665-409d-8e9f-f96dba409b4a"
      },
      "outputs": [
        {
          "output_type": "stream",
          "name": "stdout",
          "text": [
            "Shape of Train:  (83859, 13)\n"
          ]
        },
        {
          "output_type": "execute_result",
          "data": {
            "text/plain": [
              "        fare_amount  pickup_longitude  pickup_latitude  dropoff_longitude  \\\n",
              "count  83859.000000      83859.000000     83859.000000       83859.000000   \n",
              "mean       8.883685        -73.981990        40.752632         -73.980918   \n",
              "std        4.556500          0.016063         0.021310           0.016970   \n",
              "min        0.010000        -74.028080        40.689787         -74.029840   \n",
              "25%        5.700000        -73.992898        40.737992         -73.992322   \n",
              "50%        7.700000        -73.982958        40.753325         -73.982143   \n",
              "75%       10.900000        -73.971626        40.766472         -73.970347   \n",
              "max      100.330000        -73.932602        40.814060         -73.926254   \n",
              "\n",
              "       dropoff_latitude  passenger_count          hour   day_of_week  \\\n",
              "count      83859.000000     83859.000000  83859.000000  83859.000000   \n",
              "mean          40.752809         1.683302     13.657759      3.013225   \n",
              "std            0.022684         1.303074      6.367866      1.941273   \n",
              "min           40.686500         1.000000      0.000000      0.000000   \n",
              "25%           40.737991         1.000000      9.000000      1.000000   \n",
              "50%           40.754048         1.000000     14.000000      3.000000   \n",
              "75%           40.767353         2.000000     19.000000      5.000000   \n",
              "max           40.817510         6.000000     23.000000      6.000000   \n",
              "\n",
              "       day_of_month          week         month          year    H_Distance  \n",
              "count  83859.000000  83859.000000  83859.000000  83859.000000  83859.000000  \n",
              "mean      15.670614     25.412323      6.257849   2011.730703      2.376091  \n",
              "std        8.698303     14.946641      3.437152      1.866561      1.570354  \n",
              "min        1.000000      1.000000      1.000000   2009.000000      0.000084  \n",
              "25%        8.000000     13.000000      3.000000   2010.000000      1.203384  \n",
              "50%       16.000000     24.000000      6.000000   2012.000000      1.945722  \n",
              "75%       23.000000     39.000000      9.000000   2013.000000      3.161339  \n",
              "max       31.000000     53.000000     12.000000   2015.000000      7.926335  "
            ],
            "text/html": [
              "\n",
              "  <div id=\"df-ef7c964c-a009-4e0e-b55a-ea174295fae4\">\n",
              "    <div class=\"colab-df-container\">\n",
              "      <div>\n",
              "<style scoped>\n",
              "    .dataframe tbody tr th:only-of-type {\n",
              "        vertical-align: middle;\n",
              "    }\n",
              "\n",
              "    .dataframe tbody tr th {\n",
              "        vertical-align: top;\n",
              "    }\n",
              "\n",
              "    .dataframe thead th {\n",
              "        text-align: right;\n",
              "    }\n",
              "</style>\n",
              "<table border=\"1\" class=\"dataframe\">\n",
              "  <thead>\n",
              "    <tr style=\"text-align: right;\">\n",
              "      <th></th>\n",
              "      <th>fare_amount</th>\n",
              "      <th>pickup_longitude</th>\n",
              "      <th>pickup_latitude</th>\n",
              "      <th>dropoff_longitude</th>\n",
              "      <th>dropoff_latitude</th>\n",
              "      <th>passenger_count</th>\n",
              "      <th>hour</th>\n",
              "      <th>day_of_week</th>\n",
              "      <th>day_of_month</th>\n",
              "      <th>week</th>\n",
              "      <th>month</th>\n",
              "      <th>year</th>\n",
              "      <th>H_Distance</th>\n",
              "    </tr>\n",
              "  </thead>\n",
              "  <tbody>\n",
              "    <tr>\n",
              "      <th>count</th>\n",
              "      <td>83859.000000</td>\n",
              "      <td>83859.000000</td>\n",
              "      <td>83859.000000</td>\n",
              "      <td>83859.000000</td>\n",
              "      <td>83859.000000</td>\n",
              "      <td>83859.000000</td>\n",
              "      <td>83859.000000</td>\n",
              "      <td>83859.000000</td>\n",
              "      <td>83859.000000</td>\n",
              "      <td>83859.000000</td>\n",
              "      <td>83859.000000</td>\n",
              "      <td>83859.000000</td>\n",
              "      <td>83859.000000</td>\n",
              "    </tr>\n",
              "    <tr>\n",
              "      <th>mean</th>\n",
              "      <td>8.883685</td>\n",
              "      <td>-73.981990</td>\n",
              "      <td>40.752632</td>\n",
              "      <td>-73.980918</td>\n",
              "      <td>40.752809</td>\n",
              "      <td>1.683302</td>\n",
              "      <td>13.657759</td>\n",
              "      <td>3.013225</td>\n",
              "      <td>15.670614</td>\n",
              "      <td>25.412323</td>\n",
              "      <td>6.257849</td>\n",
              "      <td>2011.730703</td>\n",
              "      <td>2.376091</td>\n",
              "    </tr>\n",
              "    <tr>\n",
              "      <th>std</th>\n",
              "      <td>4.556500</td>\n",
              "      <td>0.016063</td>\n",
              "      <td>0.021310</td>\n",
              "      <td>0.016970</td>\n",
              "      <td>0.022684</td>\n",
              "      <td>1.303074</td>\n",
              "      <td>6.367866</td>\n",
              "      <td>1.941273</td>\n",
              "      <td>8.698303</td>\n",
              "      <td>14.946641</td>\n",
              "      <td>3.437152</td>\n",
              "      <td>1.866561</td>\n",
              "      <td>1.570354</td>\n",
              "    </tr>\n",
              "    <tr>\n",
              "      <th>min</th>\n",
              "      <td>0.010000</td>\n",
              "      <td>-74.028080</td>\n",
              "      <td>40.689787</td>\n",
              "      <td>-74.029840</td>\n",
              "      <td>40.686500</td>\n",
              "      <td>1.000000</td>\n",
              "      <td>0.000000</td>\n",
              "      <td>0.000000</td>\n",
              "      <td>1.000000</td>\n",
              "      <td>1.000000</td>\n",
              "      <td>1.000000</td>\n",
              "      <td>2009.000000</td>\n",
              "      <td>0.000084</td>\n",
              "    </tr>\n",
              "    <tr>\n",
              "      <th>25%</th>\n",
              "      <td>5.700000</td>\n",
              "      <td>-73.992898</td>\n",
              "      <td>40.737992</td>\n",
              "      <td>-73.992322</td>\n",
              "      <td>40.737991</td>\n",
              "      <td>1.000000</td>\n",
              "      <td>9.000000</td>\n",
              "      <td>1.000000</td>\n",
              "      <td>8.000000</td>\n",
              "      <td>13.000000</td>\n",
              "      <td>3.000000</td>\n",
              "      <td>2010.000000</td>\n",
              "      <td>1.203384</td>\n",
              "    </tr>\n",
              "    <tr>\n",
              "      <th>50%</th>\n",
              "      <td>7.700000</td>\n",
              "      <td>-73.982958</td>\n",
              "      <td>40.753325</td>\n",
              "      <td>-73.982143</td>\n",
              "      <td>40.754048</td>\n",
              "      <td>1.000000</td>\n",
              "      <td>14.000000</td>\n",
              "      <td>3.000000</td>\n",
              "      <td>16.000000</td>\n",
              "      <td>24.000000</td>\n",
              "      <td>6.000000</td>\n",
              "      <td>2012.000000</td>\n",
              "      <td>1.945722</td>\n",
              "    </tr>\n",
              "    <tr>\n",
              "      <th>75%</th>\n",
              "      <td>10.900000</td>\n",
              "      <td>-73.971626</td>\n",
              "      <td>40.766472</td>\n",
              "      <td>-73.970347</td>\n",
              "      <td>40.767353</td>\n",
              "      <td>2.000000</td>\n",
              "      <td>19.000000</td>\n",
              "      <td>5.000000</td>\n",
              "      <td>23.000000</td>\n",
              "      <td>39.000000</td>\n",
              "      <td>9.000000</td>\n",
              "      <td>2013.000000</td>\n",
              "      <td>3.161339</td>\n",
              "    </tr>\n",
              "    <tr>\n",
              "      <th>max</th>\n",
              "      <td>100.330000</td>\n",
              "      <td>-73.932602</td>\n",
              "      <td>40.814060</td>\n",
              "      <td>-73.926254</td>\n",
              "      <td>40.817510</td>\n",
              "      <td>6.000000</td>\n",
              "      <td>23.000000</td>\n",
              "      <td>6.000000</td>\n",
              "      <td>31.000000</td>\n",
              "      <td>53.000000</td>\n",
              "      <td>12.000000</td>\n",
              "      <td>2015.000000</td>\n",
              "      <td>7.926335</td>\n",
              "    </tr>\n",
              "  </tbody>\n",
              "</table>\n",
              "</div>\n",
              "      <button class=\"colab-df-convert\" onclick=\"convertToInteractive('df-ef7c964c-a009-4e0e-b55a-ea174295fae4')\"\n",
              "              title=\"Convert this dataframe to an interactive table.\"\n",
              "              style=\"display:none;\">\n",
              "        \n",
              "  <svg xmlns=\"http://www.w3.org/2000/svg\" height=\"24px\"viewBox=\"0 0 24 24\"\n",
              "       width=\"24px\">\n",
              "    <path d=\"M0 0h24v24H0V0z\" fill=\"none\"/>\n",
              "    <path d=\"M18.56 5.44l.94 2.06.94-2.06 2.06-.94-2.06-.94-.94-2.06-.94 2.06-2.06.94zm-11 1L8.5 8.5l.94-2.06 2.06-.94-2.06-.94L8.5 2.5l-.94 2.06-2.06.94zm10 10l.94 2.06.94-2.06 2.06-.94-2.06-.94-.94-2.06-.94 2.06-2.06.94z\"/><path d=\"M17.41 7.96l-1.37-1.37c-.4-.4-.92-.59-1.43-.59-.52 0-1.04.2-1.43.59L10.3 9.45l-7.72 7.72c-.78.78-.78 2.05 0 2.83L4 21.41c.39.39.9.59 1.41.59.51 0 1.02-.2 1.41-.59l7.78-7.78 2.81-2.81c.8-.78.8-2.07 0-2.86zM5.41 20L4 18.59l7.72-7.72 1.47 1.35L5.41 20z\"/>\n",
              "  </svg>\n",
              "      </button>\n",
              "      \n",
              "  <style>\n",
              "    .colab-df-container {\n",
              "      display:flex;\n",
              "      flex-wrap:wrap;\n",
              "      gap: 12px;\n",
              "    }\n",
              "\n",
              "    .colab-df-convert {\n",
              "      background-color: #E8F0FE;\n",
              "      border: none;\n",
              "      border-radius: 50%;\n",
              "      cursor: pointer;\n",
              "      display: none;\n",
              "      fill: #1967D2;\n",
              "      height: 32px;\n",
              "      padding: 0 0 0 0;\n",
              "      width: 32px;\n",
              "    }\n",
              "\n",
              "    .colab-df-convert:hover {\n",
              "      background-color: #E2EBFA;\n",
              "      box-shadow: 0px 1px 2px rgba(60, 64, 67, 0.3), 0px 1px 3px 1px rgba(60, 64, 67, 0.15);\n",
              "      fill: #174EA6;\n",
              "    }\n",
              "\n",
              "    [theme=dark] .colab-df-convert {\n",
              "      background-color: #3B4455;\n",
              "      fill: #D2E3FC;\n",
              "    }\n",
              "\n",
              "    [theme=dark] .colab-df-convert:hover {\n",
              "      background-color: #434B5C;\n",
              "      box-shadow: 0px 1px 3px 1px rgba(0, 0, 0, 0.15);\n",
              "      filter: drop-shadow(0px 1px 2px rgba(0, 0, 0, 0.3));\n",
              "      fill: #FFFFFF;\n",
              "    }\n",
              "  </style>\n",
              "\n",
              "      <script>\n",
              "        const buttonEl =\n",
              "          document.querySelector('#df-ef7c964c-a009-4e0e-b55a-ea174295fae4 button.colab-df-convert');\n",
              "        buttonEl.style.display =\n",
              "          google.colab.kernel.accessAllowed ? 'block' : 'none';\n",
              "\n",
              "        async function convertToInteractive(key) {\n",
              "          const element = document.querySelector('#df-ef7c964c-a009-4e0e-b55a-ea174295fae4');\n",
              "          const dataTable =\n",
              "            await google.colab.kernel.invokeFunction('convertToInteractive',\n",
              "                                                     [key], {});\n",
              "          if (!dataTable) return;\n",
              "\n",
              "          const docLinkHtml = 'Like what you see? Visit the ' +\n",
              "            '<a target=\"_blank\" href=https://colab.research.google.com/notebooks/data_table.ipynb>data table notebook</a>'\n",
              "            + ' to learn more about interactive tables.';\n",
              "          element.innerHTML = '';\n",
              "          dataTable['output_type'] = 'display_data';\n",
              "          await google.colab.output.renderOutput(dataTable, element);\n",
              "          const docLink = document.createElement('div');\n",
              "          docLink.innerHTML = docLinkHtml;\n",
              "          element.appendChild(docLink);\n",
              "        }\n",
              "      </script>\n",
              "    </div>\n",
              "  </div>\n",
              "  "
            ]
          },
          "metadata": {},
          "execution_count": 93
        }
      ],
      "source": [
        "train = train.drop(train[train['H_Distance']<=0].index, axis=0)\n",
        "print(\"Shape of Train: \", train.shape)\n",
        "train.describe()"
      ]
    },
    {
      "cell_type": "code",
      "execution_count": null,
      "metadata": {
        "colab": {
          "base_uri": "https://localhost:8080/"
        },
        "id": "csDgedHlEFCp",
        "outputId": "d2726d87-1135-4a90-ec14-9c485b7e1d98"
      },
      "outputs": [
        {
          "output_type": "execute_result",
          "data": {
            "text/plain": [
              "fare_amount          1.000000\n",
              "H_Distance           0.717539\n",
              "year                 0.156967\n",
              "dropoff_latitude     0.109336\n",
              "pickup_latitude      0.072489\n",
              "pickup_longitude     0.048880\n",
              "month                0.033294\n",
              "week                 0.032991\n",
              "passenger_count      0.011580\n",
              "day_of_week          0.011067\n",
              "dropoff_longitude    0.006040\n",
              "hour                 0.005684\n",
              "day_of_month         0.003477\n",
              "Name: fare_amount, dtype: float64"
            ]
          },
          "metadata": {},
          "execution_count": 94
        }
      ],
      "source": [
        "abs(train.corr()['fare_amount']).sort_values(ascending=False)"
      ]
    },
    {
      "cell_type": "markdown",
      "metadata": {
        "id": "PJHxdpjmSyJm"
      },
      "source": [
        "Now the data has been cleaned and is ready for processing with neural networks. We have removed outliers as well as negative values from the dataset.\n",
        "\n",
        "All the extra columns which do not have a lot of effect have also been dropped."
      ]
    },
    {
      "cell_type": "code",
      "execution_count": null,
      "metadata": {
        "colab": {
          "base_uri": "https://localhost:8080/",
          "height": 716
        },
        "id": "RDEVVX5MSiTu",
        "outputId": "73333ba1-9560-4050-b552-0915e310e19d"
      },
      "outputs": [
        {
          "output_type": "display_data",
          "data": {
            "text/plain": [
              "<Figure size 1080x864 with 16 Axes>"
            ],
            "image/png": "[encoded data removed]"
          },
          "metadata": {
            "needs_background": "light"
          }
        }
      ],
      "source": [
        "from matplotlib import pyplot as plt\n",
        "\n",
        "# DataFrame.hist() creates histogram of every feature present in the DataFrame.\n",
        "train.hist(bins=50, figsize=(15,12))\n",
        "plt.show()"
      ]
    },
    {
      "cell_type": "code",
      "execution_count": null,
      "metadata": {
        "colab": {
          "base_uri": "https://localhost:8080/"
        },
        "id": "WNdXPW4mTZmJ",
        "outputId": "470a3767-b125-467c-8965-84f86a9745f5"
      },
      "outputs": [
        {
          "output_type": "execute_result",
          "data": {
            "text/plain": [
              "count    83859.000000\n",
              "mean         8.883685\n",
              "std          4.556500\n",
              "min          0.010000\n",
              "25%          5.700000\n",
              "50%          7.700000\n",
              "75%         10.900000\n",
              "max        100.330000\n",
              "Name: fare_amount, dtype: float64"
            ]
          },
          "metadata": {},
          "execution_count": 96
        }
      ],
      "source": [
        "train['fare_amount'].describe()"
      ]
    },
    {
      "cell_type": "code",
      "execution_count": null,
      "metadata": {
        "id": "lhbJ2rX4Asn-"
      },
      "outputs": [],
      "source": [
        "import torch\n",
        "import torchvision\n",
        "import torchvision.transforms as transforms\n",
        "from collections import Counter\n",
        "from torchvision import datasets\n",
        "import os\n",
        "import cv2\n",
        "#tranform compse to tensor"
      ]
    },
    {
      "cell_type": "code",
      "execution_count": null,
      "metadata": {
        "id": "pp3ZSuvmAye6"
      },
      "outputs": [],
      "source": [
        "#test = pd.read_csv(\"/content/test.csv\")\n",
        "#check for missing values in test data\n",
        "#test.isnull().sum().sort_values(ascending=False)\n",
        "import tensorflow as tf\n",
        "import pandas as pd\n",
        "import matplotlib.pyplot as plt"
      ]
    },
    {
      "cell_type": "code",
      "execution_count": null,
      "metadata": {
        "colab": {
          "base_uri": "https://localhost:8080/"
        },
        "id": "Kx4r-akJBDgo",
        "outputId": "ac127682-d7bc-4b2b-ece2-893af9118cb0"
      },
      "outputs": [
        {
          "output_type": "stream",
          "name": "stdout",
          "text": [
            "[[-1.014608   -1.17979574 -0.52656977 ... -0.65689938 -1.462968\n",
            "  -0.8018882 ]\n",
            " [ 0.95830368  1.95743681  0.89782631 ...  0.21592148  0.14427542\n",
            "  -0.84124087]\n",
            " [ 0.64446815  0.50446947  1.59994774 ... -1.23877995 -0.39147239\n",
            "   0.2164289 ]\n",
            " ...\n",
            " [-0.00206664  0.2543543  -0.76675835 ... -1.23877995  0.68002323\n",
            "   0.27525426]\n",
            " [ 1.59170233  1.19700224 -0.0052969  ...  1.67062292  0.68002323\n",
            "  -0.19099793]\n",
            " [-0.47160593  0.28743708 -0.53470177 ... -0.65689938  1.21577104\n",
            "   0.28347535]]\n"
          ]
        }
      ],
      "source": [
        "from sklearn.model_selection import train_test_split\n",
        "X=train.drop(['fare_amount'],axis=1)\n",
        "y=train['fare_amount']\n",
        "######\n",
        "from sklearn.preprocessing import StandardScaler\n",
        "# define standard scaler\n",
        "scaler = StandardScaler()\n",
        "scaler_x = scaler.fit_transform(X)\n",
        "print(scaler_x)\n",
        "#####\n",
        "x_train,x_test,y_train,y_test=train_test_split(scaler_x,y,test_size=0.25,random_state=42)"
      ]
    },
    {
      "cell_type": "code",
      "execution_count": null,
      "metadata": {
        "colab": {
          "base_uri": "https://localhost:8080/",
          "height": 364
        },
        "id": "C0lDOaWKB33K",
        "outputId": "1bd33aae-47b9-459d-d181-30562015f2da"
      },
      "outputs": [
        {
          "output_type": "execute_result",
          "data": {
            "text/plain": [
              "       pickup_longitude  pickup_latitude  dropoff_longitude  dropoff_latitude  \\\n",
              "count      83859.000000     83859.000000       83859.000000      83859.000000   \n",
              "mean         -73.981990        40.752632         -73.980918         40.752809   \n",
              "std            0.016063         0.021310           0.016970          0.022684   \n",
              "min          -74.028080        40.689787         -74.029840         40.686500   \n",
              "25%          -73.992898        40.737992         -73.992322         40.737991   \n",
              "50%          -73.982958        40.753325         -73.982143         40.754048   \n",
              "75%          -73.971626        40.766472         -73.970347         40.767353   \n",
              "max          -73.932602        40.814060         -73.926254         40.817510   \n",
              "\n",
              "       passenger_count          hour   day_of_week  day_of_month  \\\n",
              "count     83859.000000  83859.000000  83859.000000  83859.000000   \n",
              "mean          1.683302     13.657759      3.013225     15.670614   \n",
              "std           1.303074      6.367866      1.941273      8.698303   \n",
              "min           1.000000      0.000000      0.000000      1.000000   \n",
              "25%           1.000000      9.000000      1.000000      8.000000   \n",
              "50%           1.000000     14.000000      3.000000     16.000000   \n",
              "75%           2.000000     19.000000      5.000000     23.000000   \n",
              "max           6.000000     23.000000      6.000000     31.000000   \n",
              "\n",
              "               week         month          year    H_Distance  \n",
              "count  83859.000000  83859.000000  83859.000000  83859.000000  \n",
              "mean      25.412323      6.257849   2011.730703      2.376091  \n",
              "std       14.946641      3.437152      1.866561      1.570354  \n",
              "min        1.000000      1.000000   2009.000000      0.000084  \n",
              "25%       13.000000      3.000000   2010.000000      1.203384  \n",
              "50%       24.000000      6.000000   2012.000000      1.945722  \n",
              "75%       39.000000      9.000000   2013.000000      3.161339  \n",
              "max       53.000000     12.000000   2015.000000      7.926335  "
            ],
            "text/html": [
              "\n",
              "  <div id=\"df-fd7869e5-17a5-4c2a-b04e-5540da00489c\">\n",
              "    <div class=\"colab-df-container\">\n",
              "      <div>\n",
              "<style scoped>\n",
              "    .dataframe tbody tr th:only-of-type {\n",
              "        vertical-align: middle;\n",
              "    }\n",
              "\n",
              "    .dataframe tbody tr th {\n",
              "        vertical-align: top;\n",
              "    }\n",
              "\n",
              "    .dataframe thead th {\n",
              "        text-align: right;\n",
              "    }\n",
              "</style>\n",
              "<table border=\"1\" class=\"dataframe\">\n",
              "  <thead>\n",
              "    <tr style=\"text-align: right;\">\n",
              "      <th></th>\n",
              "      <th>pickup_longitude</th>\n",
              "      <th>pickup_latitude</th>\n",
              "      <th>dropoff_longitude</th>\n",
              "      <th>dropoff_latitude</th>\n",
              "      <th>passenger_count</th>\n",
              "      <th>hour</th>\n",
              "      <th>day_of_week</th>\n",
              "      <th>day_of_month</th>\n",
              "      <th>week</th>\n",
              "      <th>month</th>\n",
              "      <th>year</th>\n",
              "      <th>H_Distance</th>\n",
              "    </tr>\n",
              "  </thead>\n",
              "  <tbody>\n",
              "    <tr>\n",
              "      <th>count</th>\n",
              "      <td>83859.000000</td>\n",
              "      <td>83859.000000</td>\n",
              "      <td>83859.000000</td>\n",
              "      <td>83859.000000</td>\n",
              "      <td>83859.000000</td>\n",
              "      <td>83859.000000</td>\n",
              "      <td>83859.000000</td>\n",
              "      <td>83859.000000</td>\n",
              "      <td>83859.000000</td>\n",
              "      <td>83859.000000</td>\n",
              "      <td>83859.000000</td>\n",
              "      <td>83859.000000</td>\n",
              "    </tr>\n",
              "    <tr>\n",
              "      <th>mean</th>\n",
              "      <td>-73.981990</td>\n",
              "      <td>40.752632</td>\n",
              "      <td>-73.980918</td>\n",
              "      <td>40.752809</td>\n",
              "      <td>1.683302</td>\n",
              "      <td>13.657759</td>\n",
              "      <td>3.013225</td>\n",
              "      <td>15.670614</td>\n",
              "      <td>25.412323</td>\n",
              "      <td>6.257849</td>\n",
              "      <td>2011.730703</td>\n",
              "      <td>2.376091</td>\n",
              "    </tr>\n",
              "    <tr>\n",
              "      <th>std</th>\n",
              "      <td>0.016063</td>\n",
              "      <td>0.021310</td>\n",
              "      <td>0.016970</td>\n",
              "      <td>0.022684</td>\n",
              "      <td>1.303074</td>\n",
              "      <td>6.367866</td>\n",
              "      <td>1.941273</td>\n",
              "      <td>8.698303</td>\n",
              "      <td>14.946641</td>\n",
              "      <td>3.437152</td>\n",
              "      <td>1.866561</td>\n",
              "      <td>1.570354</td>\n",
              "    </tr>\n",
              "    <tr>\n",
              "      <th>min</th>\n",
              "      <td>-74.028080</td>\n",
              "      <td>40.689787</td>\n",
              "      <td>-74.029840</td>\n",
              "      <td>40.686500</td>\n",
              "      <td>1.000000</td>\n",
              "      <td>0.000000</td>\n",
              "      <td>0.000000</td>\n",
              "      <td>1.000000</td>\n",
              "      <td>1.000000</td>\n",
              "      <td>1.000000</td>\n",
              "      <td>2009.000000</td>\n",
              "      <td>0.000084</td>\n",
              "    </tr>\n",
              "    <tr>\n",
              "      <th>25%</th>\n",
              "      <td>-73.992898</td>\n",
              "      <td>40.737992</td>\n",
              "      <td>-73.992322</td>\n",
              "      <td>40.737991</td>\n",
              "      <td>1.000000</td>\n",
              "      <td>9.000000</td>\n",
              "      <td>1.000000</td>\n",
              "      <td>8.000000</td>\n",
              "      <td>13.000000</td>\n",
              "      <td>3.000000</td>\n",
              "      <td>2010.000000</td>\n",
              "      <td>1.203384</td>\n",
              "    </tr>\n",
              "    <tr>\n",
              "      <th>50%</th>\n",
              "      <td>-73.982958</td>\n",
              "      <td>40.753325</td>\n",
              "      <td>-73.982143</td>\n",
              "      <td>40.754048</td>\n",
              "      <td>1.000000</td>\n",
              "      <td>14.000000</td>\n",
              "      <td>3.000000</td>\n",
              "      <td>16.000000</td>\n",
              "      <td>24.000000</td>\n",
              "      <td>6.000000</td>\n",
              "      <td>2012.000000</td>\n",
              "      <td>1.945722</td>\n",
              "    </tr>\n",
              "    <tr>\n",
              "      <th>75%</th>\n",
              "      <td>-73.971626</td>\n",
              "      <td>40.766472</td>\n",
              "      <td>-73.970347</td>\n",
              "      <td>40.767353</td>\n",
              "      <td>2.000000</td>\n",
              "      <td>19.000000</td>\n",
              "      <td>5.000000</td>\n",
              "      <td>23.000000</td>\n",
              "      <td>39.000000</td>\n",
              "      <td>9.000000</td>\n",
              "      <td>2013.000000</td>\n",
              "      <td>3.161339</td>\n",
              "    </tr>\n",
              "    <tr>\n",
              "      <th>max</th>\n",
              "      <td>-73.932602</td>\n",
              "      <td>40.814060</td>\n",
              "      <td>-73.926254</td>\n",
              "      <td>40.817510</td>\n",
              "      <td>6.000000</td>\n",
              "      <td>23.000000</td>\n",
              "      <td>6.000000</td>\n",
              "      <td>31.000000</td>\n",
              "      <td>53.000000</td>\n",
              "      <td>12.000000</td>\n",
              "      <td>2015.000000</td>\n",
              "      <td>7.926335</td>\n",
              "    </tr>\n",
              "  </tbody>\n",
              "</table>\n",
              "</div>\n",
              "      <button class=\"colab-df-convert\" onclick=\"convertToInteractive('df-fd7869e5-17a5-4c2a-b04e-5540da00489c')\"\n",
              "              title=\"Convert this dataframe to an interactive table.\"\n",
              "              style=\"display:none;\">\n",
              "        \n",
              "  <svg xmlns=\"http://www.w3.org/2000/svg\" height=\"24px\"viewBox=\"0 0 24 24\"\n",
              "       width=\"24px\">\n",
              "    <path d=\"M0 0h24v24H0V0z\" fill=\"none\"/>\n",
              "    <path d=\"M18.56 5.44l.94 2.06.94-2.06 2.06-.94-2.06-.94-.94-2.06-.94 2.06-2.06.94zm-11 1L8.5 8.5l.94-2.06 2.06-.94-2.06-.94L8.5 2.5l-.94 2.06-2.06.94zm10 10l.94 2.06.94-2.06 2.06-.94-2.06-.94-.94-2.06-.94 2.06-2.06.94z\"/><path d=\"M17.41 7.96l-1.37-1.37c-.4-.4-.92-.59-1.43-.59-.52 0-1.04.2-1.43.59L10.3 9.45l-7.72 7.72c-.78.78-.78 2.05 0 2.83L4 21.41c.39.39.9.59 1.41.59.51 0 1.02-.2 1.41-.59l7.78-7.78 2.81-2.81c.8-.78.8-2.07 0-2.86zM5.41 20L4 18.59l7.72-7.72 1.47 1.35L5.41 20z\"/>\n",
              "  </svg>\n",
              "      </button>\n",
              "      \n",
              "  <style>\n",
              "    .colab-df-container {\n",
              "      display:flex;\n",
              "      flex-wrap:wrap;\n",
              "      gap: 12px;\n",
              "    }\n",
              "\n",
              "    .colab-df-convert {\n",
              "      background-color: #E8F0FE;\n",
              "      border: none;\n",
              "      border-radius: 50%;\n",
              "      cursor: pointer;\n",
              "      display: none;\n",
              "      fill: #1967D2;\n",
              "      height: 32px;\n",
              "      padding: 0 0 0 0;\n",
              "      width: 32px;\n",
              "    }\n",
              "\n",
              "    .colab-df-convert:hover {\n",
              "      background-color: #E2EBFA;\n",
              "      box-shadow: 0px 1px 2px rgba(60, 64, 67, 0.3), 0px 1px 3px 1px rgba(60, 64, 67, 0.15);\n",
              "      fill: #174EA6;\n",
              "    }\n",
              "\n",
              "    [theme=dark] .colab-df-convert {\n",
              "      background-color: #3B4455;\n",
              "      fill: #D2E3FC;\n",
              "    }\n",
              "\n",
              "    [theme=dark] .colab-df-convert:hover {\n",
              "      background-color: #434B5C;\n",
              "      box-shadow: 0px 1px 3px 1px rgba(0, 0, 0, 0.15);\n",
              "      filter: drop-shadow(0px 1px 2px rgba(0, 0, 0, 0.3));\n",
              "      fill: #FFFFFF;\n",
              "    }\n",
              "  </style>\n",
              "\n",
              "      <script>\n",
              "        const buttonEl =\n",
              "          document.querySelector('#df-fd7869e5-17a5-4c2a-b04e-5540da00489c button.colab-df-convert');\n",
              "        buttonEl.style.display =\n",
              "          google.colab.kernel.accessAllowed ? 'block' : 'none';\n",
              "\n",
              "        async function convertToInteractive(key) {\n",
              "          const element = document.querySelector('#df-fd7869e5-17a5-4c2a-b04e-5540da00489c');\n",
              "          const dataTable =\n",
              "            await google.colab.kernel.invokeFunction('convertToInteractive',\n",
              "                                                     [key], {});\n",
              "          if (!dataTable) return;\n",
              "\n",
              "          const docLinkHtml = 'Like what you see? Visit the ' +\n",
              "            '<a target=\"_blank\" href=https://colab.research.google.com/notebooks/data_table.ipynb>data table notebook</a>'\n",
              "            + ' to learn more about interactive tables.';\n",
              "          element.innerHTML = '';\n",
              "          dataTable['output_type'] = 'display_data';\n",
              "          await google.colab.output.renderOutput(dataTable, element);\n",
              "          const docLink = document.createElement('div');\n",
              "          docLink.innerHTML = docLinkHtml;\n",
              "          element.appendChild(docLink);\n",
              "        }\n",
              "      </script>\n",
              "    </div>\n",
              "  </div>\n",
              "  "
            ]
          },
          "metadata": {},
          "execution_count": 100
        }
      ],
      "source": [
        "X.describe()"
      ]
    },
    {
      "cell_type": "code",
      "execution_count": null,
      "metadata": {
        "colab": {
          "base_uri": "https://localhost:8080/"
        },
        "id": "9vfawhbkCym6",
        "outputId": "8b18807d-e814-4707-8d3e-2766918a24c0"
      },
      "outputs": [
        {
          "output_type": "execute_result",
          "data": {
            "text/plain": [
              "array([[-0.23733434,  0.48795155, -1.29846139, ...,  1.08874235,\n",
              "         0.68002323,  1.42964087],\n",
              "       [-1.14553363, -1.19809685,  0.11998301, ...,  0.50686177,\n",
              "         0.68002323, -0.24470095],\n",
              "       [-0.45666434,  0.25083486,  0.56842146, ...,  0.79780206,\n",
              "         1.21577104, -0.54124817],\n",
              "       ...,\n",
              "       [ 0.94130763,  0.53431436,  0.15233422, ...,  0.21592148,\n",
              "         0.14427542, -0.70790507],\n",
              "       [-1.11552595, -1.04497757, -0.77530284, ..., -0.65689938,\n",
              "         0.14427542, -0.89105019],\n",
              "       [ 0.99497282,  0.58780991,  0.47384278, ..., -1.52972024,\n",
              "         0.68002323, -0.73767479]])"
            ]
          },
          "metadata": {},
          "execution_count": 101
        }
      ],
      "source": [
        "x_train"
      ]
    },
    {
      "cell_type": "code",
      "execution_count": null,
      "metadata": {
        "colab": {
          "base_uri": "https://localhost:8080/"
        },
        "id": "Ajf28YyoDAfS",
        "outputId": "fd9aefc8-2fd1-4718-b54d-810982b1c87f"
      },
      "outputs": [
        {
          "output_type": "execute_result",
          "data": {
            "text/plain": [
              "array([[ 0.97393008,  0.71666849,  0.28126764, ...,  0.79780206,\n",
              "         0.14427542, -0.36117525],\n",
              "       [ 0.26040718,  1.61253128,  0.26730182, ...,  0.79780206,\n",
              "        -1.462968  , -0.9425521 ],\n",
              "       [ 0.39643786, -0.14320211,  0.14190405, ..., -1.23877995,\n",
              "         0.68002323, -0.77220579],\n",
              "       ...,\n",
              "       [ 2.3153108 ,  2.86568805,  1.90442625, ...,  1.67062292,\n",
              "        -0.39147239, -0.91778854],\n",
              "       [-0.79384609,  0.35219485,  0.50477973, ..., -0.36595909,\n",
              "        -0.92722019,  0.7146721 ],\n",
              "       [-0.75207191, -0.07079541,  2.03718996, ...,  0.79780206,\n",
              "         0.14427542,  2.97335945]])"
            ]
          },
          "metadata": {},
          "execution_count": 102
        }
      ],
      "source": [
        "x_test"
      ]
    },
    {
      "cell_type": "code",
      "execution_count": null,
      "metadata": {
        "colab": {
          "base_uri": "https://localhost:8080/"
        },
        "id": "93G9Q3SuDCG0",
        "outputId": "21239f43-73ea-4dfa-b1e8-ab08a6642206"
      },
      "outputs": [
        {
          "output_type": "execute_result",
          "data": {
            "text/plain": [
              "49108    17.0\n",
              "4987      7.5\n",
              "3479      7.0\n",
              "91377     4.9\n",
              "50090     5.3\n",
              "         ... \n",
              "7463     13.7\n",
              "65553    10.1\n",
              "91566     8.1\n",
              "1024      4.5\n",
              "18843     5.0\n",
              "Name: fare_amount, Length: 62894, dtype: float64"
            ]
          },
          "metadata": {},
          "execution_count": 103
        }
      ],
      "source": [
        "y_train"
      ]
    },
    {
      "cell_type": "code",
      "execution_count": null,
      "metadata": {
        "id": "PIUs1BaXDD1M"
      },
      "outputs": [],
      "source": [
        "x_train = tf.constant(x_train)\n",
        "y_train = tf.constant(y_train)\n",
        "x_test = tf.convert_to_tensor(x_test)\n",
        "x_test = tf.constant(x_test)\n",
        "y_test = tf.constant(y_test)"
      ]
    },
    {
      "cell_type": "code",
      "execution_count": null,
      "metadata": {
        "id": "OZs_8E6oiEQa"
      },
      "outputs": [],
      "source": [
        "from tensorflow import keras\n",
        "from keras import models\n",
        "from keras import layers\n",
        "# first neural network with keras tutorial\n",
        "from numpy import loadtxt\n"
      ]
    },
    {
      "cell_type": "code",
      "execution_count": null,
      "metadata": {
        "id": "hO7vrWSfiajW"
      },
      "outputs": [],
      "source": [
        "tf.random.set_seed(42)\n",
        "...\n",
        "# define the keras model\n",
        "model = tf.keras.models.Sequential()\n",
        "model.add(tf.keras.layers.Dense(16,  activation='sigmoid'))\n",
        "model.add(tf.keras.layers.BatchNormalization())\n",
        "model.add(tf.keras.layers.Dense(8, activation='sigmoid'))\n",
        "model.add(tf.keras.layers.BatchNormalization())\n",
        "model.add(tf.keras.layers.Dense(1))"
      ]
    },
    {
      "cell_type": "code",
      "execution_count": null,
      "metadata": {
        "id": "wgJ2AlBfi1Iq"
      },
      "outputs": [],
      "source": [
        "#from tf.keras.metrics.mean_absolute_error\n",
        "# compile the keras model\n",
        "#model.compile(loss='mean_absolute_error', optimizer='adam', metrics=['accuracy'])"
      ]
    },
    {
      "cell_type": "code",
      "execution_count": null,
      "metadata": {
        "id": "9NZ2l36dlCj5"
      },
      "outputs": [],
      "source": [
        "model.compile(loss = tf.keras.losses.mae,\n",
        "                        optimizer = tf.keras.optimizers.SGD(learning_rate = 0.01),\n",
        "                        metrics = [\"mse\",\"mae\",\"mape\",])"
      ]
    },
    {
      "cell_type": "markdown",
      "metadata": {
        "id": "nnrnP_scnxTf"
      },
      "source": [
        "Now We try to run the network with different epoch size and batch size to see what are the changes in the learning method."
      ]
    },
    {
      "cell_type": "code",
      "execution_count": null,
      "metadata": {
        "id": "t8wk-kQDlPna"
      },
      "outputs": [],
      "source": [
        "Batch=128\n",
        "Run =model.fit( x_train,y_train,\n",
        "    validation_data=(x_test, y_test),\n",
        "    validation_steps=len(x_test) // Batch,\n",
        "    batch_size=128, epochs=150, verbose=0)"
      ]
    },
    {
      "cell_type": "code",
      "execution_count": null,
      "metadata": {
        "id": "B_RPo7GJpCAE"
      },
      "outputs": [],
      "source": [
        "predicted_y=model.predict(x_test)"
      ]
    },
    {
      "cell_type": "code",
      "execution_count": null,
      "metadata": {
        "id": "7oDXNr7loLiE"
      },
      "outputs": [],
      "source": [
        "res = model.evaluate(x_test, y_test, verbose=1)\n",
        "res"
      ]
    },
    {
      "cell_type": "code",
      "execution_count": null,
      "metadata": {
        "id": "KguwKqalpo-f"
      },
      "outputs": [],
      "source": [
        "from sklearn.metrics import mean_squared_error,mean_absolute_error,mean_absolute_percentage_error"
      ]
    },
    {
      "cell_type": "code",
      "execution_count": null,
      "metadata": {
        "id": "BR_Sp_YzpT0E"
      },
      "outputs": [],
      "source": [
        "print(\"mean squared error: \",mean_squared_error(predicted_y,y_test))\n",
        "print(\"mean absolute error: \",mean_absolute_error(predicted_y,y_test))\n",
        "print(\"mean absolute percentage error: \",mean_absolute_percentage_error(predicted_y,y_test))"
      ]
    },
    {
      "cell_type": "code",
      "execution_count": null,
      "metadata": {
        "id": "vFEXZfu-puXT"
      },
      "outputs": [],
      "source": [
        "metrics_model=[mean_absolute_percentage_error(y_test,predicted_y),mean_absolute_error(y_test,predicted_y),mean_squared_error(y_test,predicted_y)]\n",
        "metrics_model"
      ]
    },
    {
      "cell_type": "code",
      "execution_count": null,
      "metadata": {
        "id": "A8y8wObUrGRM"
      },
      "outputs": [],
      "source": [
        "\n",
        "# Visualize training history\n",
        "import matplotlib.pyplot as plt\n",
        "import numpy as np\n",
        "\n",
        "model.summary()"
      ]
    },
    {
      "cell_type": "code",
      "execution_count": null,
      "metadata": {
        "id": "vFB9NFbawy6j"
      },
      "outputs": [],
      "source": [
        "print(Run.history.keys())"
      ]
    },
    {
      "cell_type": "code",
      "execution_count": null,
      "metadata": {
        "id": "fZmmSxirsovg"
      },
      "outputs": [],
      "source": [
        "pd.DataFrame(Run.history).plot()\n",
        "plt.ylabel(\"loss\")\n",
        "plt.xlabel(\"epochs\")"
      ]
    },
    {
      "cell_type": "code",
      "execution_count": null,
      "metadata": {
        "id": "_-pRZuasxdA0"
      },
      "outputs": [],
      "source": [
        "plt.plot(Run.history['loss'])\n",
        "plt.plot(Run.history['val_loss'])\n",
        "plt.title('model accuracy')\n",
        "plt.ylabel('loss')\n",
        "plt.xlabel('epoch')\n",
        "plt.legend(['train', 'test'], loc='upper left')\n",
        "plt.show()"
      ]
    },
    {
      "cell_type": "code",
      "execution_count": null,
      "metadata": {
        "colab": {
          "base_uri": "https://localhost:8080/",
          "height": 295
        },
        "id": "h5KorcAR0TF_",
        "outputId": "01bf049b-0671-4bd1-e054-dccc4a1b5213"
      },
      "outputs": [
        {
          "output_type": "display_data",
          "data": {
            "text/plain": [
              "<Figure size 432x288 with 1 Axes>"
            ],
            "image/png": "[encoded data removed]"
          },
          "metadata": {
            "needs_background": "light"
          }
        }
      ],
      "source": [
        "plt.plot(Run.history['mae'])\n",
        "plt.plot(Run.history['val_mae'])\n",
        "plt.title('model accuracy')\n",
        "plt.ylabel('MAE')\n",
        "plt.xlabel('epoch')\n",
        "plt.legend(['train', 'test'], loc='upper left')\n",
        "plt.show()"
      ]
    },
    {
      "cell_type": "markdown",
      "metadata": {
        "id": "KxQgbSjYyW_t"
      },
      "source": [
        "this graph shows that the mape decreases with the number of epochs.  If these parallel plots start to depart consistently, it might be a sign to stop training at an earlier epoch.\n",
        "\n",
        "in this case we can see a small difference in the mape values for test and train data.\n",
        "\n",
        "both loss and other metrics decrease consistently with epochs."
      ]
    },
    {
      "cell_type": "markdown",
      "metadata": {
        "id": "urwioQ_bs1Nl"
      },
      "source": [
        "#Experiment with number of layers and neurons per layer\n",
        " This is done to increase the performance metrics\n",
        "\n",
        " We can summarize the types of layers as follows:\n",
        "\n",
        "**Input Layer**: Input variables, sometimes called the visible layer.\n",
        "\n",
        "**Hidden Layers**: Layers of nodes between the input and output layers. There may be one or more of these layers.\n",
        "\n",
        "**Output Layer:** A layer of nodes that produce the output variables.\n",
        "\n",
        "\n",
        "Finally, there are terms used to describe ***the shape and capability of a neural network:***\n",
        "\n",
        "* Size: The number of nodes in the model.\n",
        "\n",
        "* Width: The number of nodes in a specific layer.\n",
        "\n",
        "* Depth: The number of layers in a neural network.\n",
        "\n",
        "* Capacity: The type or structure of functions that can be learned by a network configuration. Sometimes called “representational capacity“.\n",
        "\n",
        "* Architecture: The specific arrangement of the layers and nodes in the network.\n"
      ]
    },
    {
      "cell_type": "code",
      "execution_count": null,
      "metadata": {
        "id": "wgElWy6c0Fpc"
      },
      "outputs": [],
      "source": [
        "import keras.backend as K\n",
        "from keras.layers import Dense,Dropout\n",
        "from tensorflow import keras"
      ]
    },
    {
      "cell_type": "code",
      "execution_count": null,
      "metadata": {
        "colab": {
          "base_uri": "https://localhost:8080/"
        },
        "id": "deo03EYghkdR",
        "outputId": "e8bc2ab6-6e6b-4c77-9631-40b099264098"
      },
      "outputs": [
        {
          "output_type": "stream",
          "name": "stdout",
          "text": [
            "13\n",
            "Epoch 1/100\n",
            "492/492 [==============================] - 4s 5ms/step - loss: 61.0726 - rmse: 7.0567 - val_loss: 24.7555 - val_rmse: 3.8621\n",
            "Epoch 2/100\n",
            "492/492 [==============================] - 2s 5ms/step - loss: 13.4985 - rmse: 2.3201 - val_loss: 9.6684 - val_rmse: 1.6093\n",
            "Epoch 3/100\n",
            "492/492 [==============================] - 2s 5ms/step - loss: 8.5399 - rmse: 1.5921 - val_loss: 9.1027 - val_rmse: 1.5279\n",
            "Epoch 4/100\n",
            "492/492 [==============================] - 3s 5ms/step - loss: 8.1781 - rmse: 1.5351 - val_loss: 8.8631 - val_rmse: 1.4768\n",
            "Epoch 5/100\n",
            "492/492 [==============================] - 2s 5ms/step - loss: 8.0654 - rmse: 1.5094 - val_loss: 8.8279 - val_rmse: 1.4790\n",
            "Epoch 6/100\n",
            "492/492 [==============================] - 2s 5ms/step - loss: 7.9613 - rmse: 1.4970 - val_loss: 8.7120 - val_rmse: 1.4300\n",
            "Epoch 7/100\n",
            "492/492 [==============================] - 2s 5ms/step - loss: 7.9490 - rmse: 1.4875 - val_loss: 8.7216 - val_rmse: 1.4560\n",
            "Epoch 8/100\n",
            "492/492 [==============================] - 2s 5ms/step - loss: 7.8619 - rmse: 1.4724 - val_loss: 8.8051 - val_rmse: 1.5143\n",
            "Epoch 9/100\n",
            "492/492 [==============================] - 2s 4ms/step - loss: 7.8544 - rmse: 1.4753 - val_loss: 8.6674 - val_rmse: 1.4381\n",
            "Epoch 10/100\n",
            "492/492 [==============================] - 2s 4ms/step - loss: 7.7921 - rmse: 1.4687 - val_loss: 8.6439 - val_rmse: 1.4660\n",
            "Epoch 11/100\n",
            "492/492 [==============================] - 2s 4ms/step - loss: 7.7536 - rmse: 1.4618 - val_loss: 8.6521 - val_rmse: 1.4550\n",
            "Epoch 12/100\n",
            "492/492 [==============================] - 2s 5ms/step - loss: 7.7542 - rmse: 1.4625 - val_loss: 8.6442 - val_rmse: 1.4667\n",
            "Epoch 13/100\n",
            "492/492 [==============================] - 2s 5ms/step - loss: 7.7054 - rmse: 1.4565 - val_loss: 8.5527 - val_rmse: 1.4435\n",
            "Epoch 14/100\n",
            "492/492 [==============================] - 2s 5ms/step - loss: 7.6787 - rmse: 1.4550 - val_loss: 8.4947 - val_rmse: 1.4100\n",
            "Epoch 15/100\n",
            "492/492 [==============================] - 3s 5ms/step - loss: 7.6391 - rmse: 1.4469 - val_loss: 8.5510 - val_rmse: 1.4755\n",
            "Epoch 16/100\n",
            "492/492 [==============================] - 2s 5ms/step - loss: 7.6338 - rmse: 1.4526 - val_loss: 8.5052 - val_rmse: 1.4308\n",
            "Epoch 17/100\n",
            "492/492 [==============================] - 2s 5ms/step - loss: 7.5677 - rmse: 1.4428 - val_loss: 8.5331 - val_rmse: 1.4321\n",
            "Epoch 18/100\n",
            "492/492 [==============================] - 2s 4ms/step - loss: 7.5540 - rmse: 1.4403 - val_loss: 8.5456 - val_rmse: 1.3937\n",
            "Epoch 19/100\n",
            "492/492 [==============================] - 2s 5ms/step - loss: 7.5487 - rmse: 1.4434 - val_loss: 8.4732 - val_rmse: 1.3930\n",
            "Epoch 20/100\n",
            "492/492 [==============================] - 2s 5ms/step - loss: 7.5378 - rmse: 1.4429 - val_loss: 8.4077 - val_rmse: 1.3863\n",
            "Epoch 21/100\n",
            "492/492 [==============================] - 3s 5ms/step - loss: 7.5026 - rmse: 1.4339 - val_loss: 8.5251 - val_rmse: 1.4623\n",
            "Epoch 22/100\n",
            "492/492 [==============================] - 2s 4ms/step - loss: 7.5138 - rmse: 1.4381 - val_loss: 8.7036 - val_rmse: 1.4754\n",
            "Epoch 23/100\n",
            "492/492 [==============================] - 2s 4ms/step - loss: 7.4389 - rmse: 1.4371 - val_loss: 8.4264 - val_rmse: 1.3885\n",
            "Epoch 24/100\n",
            "492/492 [==============================] - 2s 5ms/step - loss: 7.4606 - rmse: 1.4339 - val_loss: 8.3836 - val_rmse: 1.3882\n",
            "Epoch 25/100\n",
            "492/492 [==============================] - 3s 5ms/step - loss: 7.3800 - rmse: 1.4287 - val_loss: 8.3885 - val_rmse: 1.4676\n",
            "Epoch 26/100\n",
            "492/492 [==============================] - 3s 7ms/step - loss: 7.4634 - rmse: 1.4364 - val_loss: 8.3169 - val_rmse: 1.4445\n",
            "Epoch 27/100\n",
            "492/492 [==============================] - 2s 4ms/step - loss: 7.3826 - rmse: 1.4271 - val_loss: 8.4302 - val_rmse: 1.4035\n",
            "Epoch 28/100\n",
            "492/492 [==============================] - 2s 3ms/step - loss: 7.4032 - rmse: 1.4331 - val_loss: 8.3060 - val_rmse: 1.4147\n",
            "Epoch 29/100\n",
            "492/492 [==============================] - 2s 4ms/step - loss: 7.4216 - rmse: 1.4294 - val_loss: 8.3105 - val_rmse: 1.3968\n",
            "Epoch 30/100\n",
            "492/492 [==============================] - 2s 3ms/step - loss: 7.3254 - rmse: 1.4196 - val_loss: 8.3849 - val_rmse: 1.4537\n",
            "Epoch 31/100\n",
            "492/492 [==============================] - 2s 3ms/step - loss: 7.3648 - rmse: 1.4322 - val_loss: 8.3874 - val_rmse: 1.4221\n",
            "Epoch 32/100\n",
            "492/492 [==============================] - 2s 4ms/step - loss: 7.3506 - rmse: 1.4317 - val_loss: 8.3601 - val_rmse: 1.4270\n",
            "Epoch 33/100\n",
            "492/492 [==============================] - 3s 5ms/step - loss: 7.2952 - rmse: 1.4296 - val_loss: 8.3663 - val_rmse: 1.4287\n",
            "Epoch 34/100\n",
            "492/492 [==============================] - 3s 7ms/step - loss: 7.3307 - rmse: 1.4297 - val_loss: 8.4080 - val_rmse: 1.4023\n",
            "Epoch 35/100\n",
            "492/492 [==============================] - 2s 3ms/step - loss: 7.2664 - rmse: 1.4248 - val_loss: 8.3694 - val_rmse: 1.4105\n",
            "Epoch 36/100\n",
            "492/492 [==============================] - 2s 4ms/step - loss: 7.2693 - rmse: 1.4207 - val_loss: 8.4961 - val_rmse: 1.4605\n",
            "Epoch 37/100\n",
            "492/492 [==============================] - 2s 4ms/step - loss: 7.2203 - rmse: 1.4297 - val_loss: 8.7409 - val_rmse: 1.4447\n",
            "Epoch 38/100\n",
            "492/492 [==============================] - 2s 4ms/step - loss: 7.1646 - rmse: 1.4170 - val_loss: 8.2689 - val_rmse: 1.4101\n",
            "Epoch 39/100\n",
            "492/492 [==============================] - 2s 4ms/step - loss: 7.1481 - rmse: 1.4208 - val_loss: 8.3051 - val_rmse: 1.4359\n",
            "Epoch 40/100\n",
            "492/492 [==============================] - 2s 3ms/step - loss: 7.1210 - rmse: 1.4222 - val_loss: 8.3573 - val_rmse: 1.4096\n",
            "Epoch 41/100\n",
            "492/492 [==============================] - 2s 4ms/step - loss: 7.1475 - rmse: 1.4224 - val_loss: 8.2913 - val_rmse: 1.3998\n",
            "Epoch 42/100\n",
            "492/492 [==============================] - 2s 4ms/step - loss: 7.0502 - rmse: 1.4169 - val_loss: 8.3400 - val_rmse: 1.4569\n",
            "Epoch 43/100\n",
            "492/492 [==============================] - 2s 4ms/step - loss: 7.0520 - rmse: 1.4185 - val_loss: 8.4014 - val_rmse: 1.4180\n",
            "Epoch 44/100\n",
            "492/492 [==============================] - 2s 3ms/step - loss: 7.0008 - rmse: 1.4139 - val_loss: 8.2533 - val_rmse: 1.3901\n",
            "Epoch 45/100\n",
            "492/492 [==============================] - 2s 3ms/step - loss: 7.0652 - rmse: 1.4123 - val_loss: 8.1786 - val_rmse: 1.4297\n",
            "Epoch 46/100\n",
            "492/492 [==============================] - 2s 3ms/step - loss: 7.0232 - rmse: 1.4209 - val_loss: 8.2185 - val_rmse: 1.4136\n",
            "Epoch 47/100\n",
            "492/492 [==============================] - 2s 3ms/step - loss: 6.9144 - rmse: 1.4179 - val_loss: 8.1218 - val_rmse: 1.3958\n",
            "Epoch 48/100\n",
            "492/492 [==============================] - 2s 3ms/step - loss: 6.9042 - rmse: 1.4214 - val_loss: 8.4433 - val_rmse: 1.4170\n",
            "Epoch 49/100\n",
            "492/492 [==============================] - 2s 4ms/step - loss: 6.8384 - rmse: 1.4134 - val_loss: 8.3997 - val_rmse: 1.4022\n",
            "Epoch 50/100\n",
            "492/492 [==============================] - 2s 4ms/step - loss: 6.8115 - rmse: 1.4193 - val_loss: 8.7742 - val_rmse: 1.4200\n",
            "Epoch 51/100\n",
            "492/492 [==============================] - 2s 4ms/step - loss: 6.7541 - rmse: 1.4125 - val_loss: 8.5988 - val_rmse: 1.4453\n",
            "Epoch 52/100\n",
            "492/492 [==============================] - 2s 3ms/step - loss: 6.8782 - rmse: 1.4183 - val_loss: 8.6453 - val_rmse: 1.4656\n",
            "Epoch 53/100\n",
            "492/492 [==============================] - 2s 4ms/step - loss: 6.6598 - rmse: 1.4063 - val_loss: 8.2501 - val_rmse: 1.4191\n",
            "Epoch 54/100\n",
            "492/492 [==============================] - 2s 3ms/step - loss: 6.6989 - rmse: 1.4014 - val_loss: 8.4971 - val_rmse: 1.4128\n",
            "Epoch 55/100\n",
            "492/492 [==============================] - 2s 4ms/step - loss: 6.7227 - rmse: 1.4083 - val_loss: 8.3187 - val_rmse: 1.4225\n",
            "Epoch 56/100\n",
            "492/492 [==============================] - 3s 5ms/step - loss: 6.6622 - rmse: 1.4037 - val_loss: 8.8354 - val_rmse: 1.4500\n",
            "Epoch 57/100\n",
            "492/492 [==============================] - 4s 8ms/step - loss: 6.5897 - rmse: 1.4045 - val_loss: 8.2275 - val_rmse: 1.4423\n",
            "Epoch 58/100\n",
            "492/492 [==============================] - 3s 7ms/step - loss: 6.5868 - rmse: 1.4063 - val_loss: 8.7811 - val_rmse: 1.4128\n",
            "Epoch 59/100\n",
            "492/492 [==============================] - 2s 4ms/step - loss: 6.6405 - rmse: 1.4020 - val_loss: 8.5841 - val_rmse: 1.4197\n",
            "Epoch 60/100\n",
            "492/492 [==============================] - 2s 4ms/step - loss: 6.4254 - rmse: 1.3978 - val_loss: 9.5771 - val_rmse: 1.4277\n",
            "Epoch 61/100\n",
            "492/492 [==============================] - 2s 3ms/step - loss: 6.5487 - rmse: 1.3993 - val_loss: 9.5488 - val_rmse: 1.4346\n",
            "Epoch 62/100\n",
            "492/492 [==============================] - 2s 3ms/step - loss: 6.5187 - rmse: 1.4032 - val_loss: 8.8727 - val_rmse: 1.4289\n",
            "Epoch 63/100\n",
            "492/492 [==============================] - 2s 4ms/step - loss: 6.4899 - rmse: 1.3975 - val_loss: 8.8842 - val_rmse: 1.4599\n",
            "Epoch 64/100\n",
            "492/492 [==============================] - 2s 4ms/step - loss: 6.4659 - rmse: 1.4011 - val_loss: 9.1159 - val_rmse: 1.4274\n",
            "Epoch 65/100\n",
            "492/492 [==============================] - 2s 4ms/step - loss: 6.4383 - rmse: 1.4016 - val_loss: 8.9163 - val_rmse: 1.4810\n",
            "Epoch 66/100\n",
            "492/492 [==============================] - 2s 4ms/step - loss: 6.4081 - rmse: 1.3917 - val_loss: 9.6244 - val_rmse: 1.4203\n",
            "Epoch 67/100\n",
            "492/492 [==============================] - 2s 4ms/step - loss: 6.3562 - rmse: 1.3971 - val_loss: 8.8229 - val_rmse: 1.4777\n",
            "Epoch 68/100\n",
            "492/492 [==============================] - 2s 4ms/step - loss: 6.4107 - rmse: 1.3983 - val_loss: 9.1765 - val_rmse: 1.4165\n",
            "Epoch 69/100\n",
            "492/492 [==============================] - 2s 4ms/step - loss: 6.3674 - rmse: 1.3927 - val_loss: 9.7245 - val_rmse: 1.4295\n",
            "Epoch 70/100\n",
            "492/492 [==============================] - 2s 4ms/step - loss: 6.3569 - rmse: 1.3947 - val_loss: 9.4523 - val_rmse: 1.4546\n",
            "Epoch 71/100\n",
            "492/492 [==============================] - 2s 4ms/step - loss: 6.2710 - rmse: 1.3920 - val_loss: 9.5251 - val_rmse: 1.4712\n",
            "Epoch 72/100\n",
            "492/492 [==============================] - 2s 4ms/step - loss: 6.4354 - rmse: 1.3979 - val_loss: 9.2543 - val_rmse: 1.4428\n",
            "Epoch 73/100\n",
            "492/492 [==============================] - 2s 4ms/step - loss: 6.2127 - rmse: 1.3915 - val_loss: 9.3566 - val_rmse: 1.4388\n",
            "Epoch 74/100\n",
            "492/492 [==============================] - 2s 4ms/step - loss: 6.1854 - rmse: 1.3870 - val_loss: 11.2673 - val_rmse: 1.4696\n",
            "Epoch 75/100\n",
            "492/492 [==============================] - 2s 4ms/step - loss: 6.3970 - rmse: 1.3914 - val_loss: 10.5820 - val_rmse: 1.4335\n",
            "Epoch 76/100\n",
            "492/492 [==============================] - 2s 4ms/step - loss: 6.0653 - rmse: 1.3899 - val_loss: 10.9834 - val_rmse: 1.4134\n",
            "Epoch 77/100\n",
            "492/492 [==============================] - 2s 4ms/step - loss: 6.1314 - rmse: 1.3887 - val_loss: 9.9528 - val_rmse: 1.4912\n",
            "Epoch 78/100\n",
            "492/492 [==============================] - 3s 6ms/step - loss: 6.2836 - rmse: 1.3851 - val_loss: 12.3341 - val_rmse: 1.4349\n",
            "Epoch 79/100\n",
            "492/492 [==============================] - 3s 7ms/step - loss: 6.3419 - rmse: 1.3941 - val_loss: 10.4313 - val_rmse: 1.4874\n",
            "Epoch 80/100\n",
            "492/492 [==============================] - 2s 4ms/step - loss: 6.1032 - rmse: 1.3778 - val_loss: 17.0366 - val_rmse: 1.5351\n",
            "Epoch 81/100\n",
            "492/492 [==============================] - 2s 5ms/step - loss: 6.3259 - rmse: 1.3901 - val_loss: 11.4146 - val_rmse: 1.4817\n",
            "Epoch 82/100\n",
            "492/492 [==============================] - 5s 9ms/step - loss: 6.2677 - rmse: 1.3871 - val_loss: 10.5421 - val_rmse: 1.4944\n",
            "Epoch 83/100\n",
            "492/492 [==============================] - 4s 8ms/step - loss: 5.9972 - rmse: 1.3755 - val_loss: 13.5084 - val_rmse: 1.4758\n",
            "Epoch 84/100\n",
            "492/492 [==============================] - 4s 7ms/step - loss: 6.1957 - rmse: 1.3897 - val_loss: 11.1044 - val_rmse: 1.4832\n",
            "Epoch 85/100\n",
            "492/492 [==============================] - 3s 5ms/step - loss: 5.9702 - rmse: 1.3780 - val_loss: 10.1483 - val_rmse: 1.4864\n",
            "Epoch 86/100\n",
            "492/492 [==============================] - 2s 4ms/step - loss: 6.1180 - rmse: 1.3861 - val_loss: 9.1220 - val_rmse: 1.4237\n",
            "Epoch 87/100\n",
            "492/492 [==============================] - 2s 4ms/step - loss: 6.2027 - rmse: 1.3831 - val_loss: 10.4726 - val_rmse: 1.4454\n",
            "Epoch 88/100\n",
            "492/492 [==============================] - 2s 4ms/step - loss: 6.0266 - rmse: 1.3834 - val_loss: 10.4383 - val_rmse: 1.4147\n",
            "Epoch 89/100\n",
            "492/492 [==============================] - 2s 3ms/step - loss: 6.0222 - rmse: 1.3759 - val_loss: 9.7384 - val_rmse: 1.4230\n",
            "Epoch 90/100\n",
            "492/492 [==============================] - 2s 4ms/step - loss: 6.0445 - rmse: 1.3814 - val_loss: 10.9428 - val_rmse: 1.4186\n",
            "Epoch 91/100\n",
            "492/492 [==============================] - 2s 4ms/step - loss: 6.1656 - rmse: 1.3854 - val_loss: 10.3351 - val_rmse: 1.4612\n",
            "Epoch 92/100\n",
            "492/492 [==============================] - 2s 4ms/step - loss: 5.9557 - rmse: 1.3771 - val_loss: 11.2369 - val_rmse: 1.4924\n",
            "Epoch 93/100\n",
            "492/492 [==============================] - 2s 4ms/step - loss: 5.9999 - rmse: 1.3740 - val_loss: 11.0587 - val_rmse: 1.4886\n",
            "Epoch 94/100\n",
            "492/492 [==============================] - 2s 4ms/step - loss: 5.8819 - rmse: 1.3758 - val_loss: 11.4897 - val_rmse: 1.5775\n",
            "Epoch 95/100\n",
            "492/492 [==============================] - 2s 4ms/step - loss: 5.9333 - rmse: 1.3789 - val_loss: 10.2465 - val_rmse: 1.4606\n",
            "Epoch 96/100\n",
            "492/492 [==============================] - 2s 4ms/step - loss: 5.9930 - rmse: 1.3822 - val_loss: 10.1216 - val_rmse: 1.4465\n",
            "Epoch 97/100\n",
            "492/492 [==============================] - 2s 4ms/step - loss: 5.8609 - rmse: 1.3730 - val_loss: 10.4550 - val_rmse: 1.4389\n",
            "Epoch 98/100\n",
            "492/492 [==============================] - 2s 4ms/step - loss: 6.0194 - rmse: 1.3760 - val_loss: 9.4223 - val_rmse: 1.4253\n",
            "Epoch 99/100\n",
            "492/492 [==============================] - 2s 4ms/step - loss: 6.0103 - rmse: 1.3832 - val_loss: 11.3334 - val_rmse: 1.4356\n",
            "Epoch 100/100\n",
            "492/492 [==============================] - 3s 6ms/step - loss: 6.0031 - rmse: 1.3807 - val_loss: 9.6040 - val_rmse: 1.3993\n"
          ]
        }
      ],
      "source": [
        "n_col = train.shape[1]\n",
        "print(n_col)\n",
        "\n",
        "from keras.layers import BatchNormalization\n",
        "from keras.layers.advanced_activations import LeakyReLU\n",
        "\n",
        "\n",
        "\n",
        "def rmse (y_true, y_pred):\n",
        "    return K.sqrt(K.mean(K.square(y_pred - y_true), axis=-1))\n",
        "\n",
        "def model1() :   #Created a Model using Keras\n",
        "    model1 = tf.keras.models.Sequential()\n",
        "    model1.add(tf.keras.layers.Dense(128,activation='sigmoid')) #256 neurons in hidden layer\n",
        "    model1.add(BatchNormalization())\n",
        "    model1.add(tf.keras.layers.Dense(64,activation='sigmoid'))  # 128 neurons in hidden layer\n",
        "    model1.add(BatchNormalization())\n",
        "    model1.add(tf.keras.layers.Dense(16,activation='sigmoid')) # 16 neurons in hidden layer\n",
        "    model1.add(BatchNormalization())\n",
        "    model1.add(tf.keras.layers.Dense(8,activation='sigmoid')) # 8 neurons in hidden layer\n",
        "    model1.add(BatchNormalization())\n",
        "    model1.add(tf.keras.layers.Dense(1)) # 1 neuron in output layer\n",
        "\n",
        "    #nadam = optimizers.Nadam(lr=0.002, beta_1=0.9, beta_2=0.999, epsilon=None, schedule_decay=0.004)\n",
        "    #adadelta =optimizers.Adadelta(lr=1.0, rho=0.95, epsilon=None, decay=0.0)\n",
        "    #adgrad = optimizers.Adagrad(lr=0.001, epsilon=None, decay=0.0)\n",
        "    #rms = optimizers.RMSprop(lr=0.001, rho=0.9, epsilon=None, decay=0.0)\n",
        "\n",
        "    #sgd = optimizers.SGD(lr=0.01, decay=1e-6, momentum=0.9, nesterov=True,clipnorm=0.5)\n",
        "\n",
        "    model1.compile(optimizer='adam',loss='mse', metrics=[rmse])\n",
        "    return model1\n",
        "\n",
        "Batch=128\n",
        "model1 = model1()\n",
        "estimator = model1.fit(x_train,y_train, batch_size=128, epochs=100,\n",
        "                    verbose=1, validation_data=(x_test,y_test),\n",
        "                    validation_steps=len(x_test) // Batch,)"
      ]
    },
    {
      "cell_type": "markdown",
      "metadata": {
        "id": "e2-GXrOK2fRo"
      },
      "source": [
        "to expeiment wiyh different models we create a functions"
      ]
    },
    {
      "cell_type": "code",
      "execution_count": null,
      "metadata": {
        "id": "fZCVwWWJ1U3i"
      },
      "outputs": [],
      "source": [
        "def build_model(n_hidden=1, n_neurons=30, learning_rate=3e-3, input_shape=[8]):\n",
        " model_s = keras.models.Sequential()\n",
        " options = {\"input_shape\": input_shape}\n",
        " for layer in range(n_hidden):\n",
        "   model_s.add(keras.layers.Dense(n_neurons, activation=\"relu\", **options))\n",
        "   options = {}\n",
        " model.add(keras.layers.Dense(1, **options))\n",
        " optimizer = keras.optimizers.SGD(learning_rate)\n",
        " model.compile(loss=\"mse\", optimizer=optimizer)\n",
        " return model\n"
      ]
    },
    {
      "cell_type": "code",
      "execution_count": null,
      "metadata": {
        "id": "ZyHM_1AF3qEI"
      },
      "outputs": [],
      "source": [
        "%%time\n",
        "def fit_model(model,epoch=100):\n",
        "  Batch=128\n",
        "  history=model.fit( x_train,y_train,\n",
        "    validation_data=(x_test, y_test),\n",
        "    validation_steps=len(x_test) // Batch,\n",
        "    batch_size=128, epochs=epoch, verbose=1)\n",
        "  return history"
      ]
    },
    {
      "cell_type": "code",
      "source": [
        "import scipy.stats as st\n",
        "\n",
        "def table(data):\n",
        "  value=st.norm.interval(alpha=0.95, loc=np.mean(data), scale=st.sem(data))\n",
        "  return value"
      ],
      "metadata": {
        "id": "R4CDwy2Ltw69"
      },
      "execution_count": null,
      "outputs": []
    },
    {
      "cell_type": "code",
      "execution_count": null,
      "metadata": {
        "id": "b1GYGEa34c0z"
      },
      "outputs": [],
      "source": [
        "def metric_model(model,x_test,y_test):\n",
        "  eva=model.evaluate(x_test,y_test)\n",
        "  pred1=model.predict(x_test)\n",
        "  metrics=[mean_absolute_percentage_error(y_test,pred1),mean_absolute_error(y_test,pred1),mean_squared_error(y_test,pred1)]\n",
        "  print('the evaluation is',eva,'\\n\\n the prediction is ',pred1,'\\n\\n the metrics are',metrics,'\\n')\n",
        "  return\n",
        "\n"
      ]
    },
    {
      "cell_type": "code",
      "execution_count": null,
      "metadata": {
        "id": "d9lVoMSL5WMh"
      },
      "outputs": [],
      "source": [
        "fit1=fit_model(model1)"
      ]
    },
    {
      "cell_type": "code",
      "execution_count": null,
      "metadata": {
        "id": "JFX4pQYZ5lcn"
      },
      "outputs": [],
      "source": [
        "metric1= metric_model(model1,x_test,y_test)"
      ]
    },
    {
      "cell_type": "code",
      "source": [
        "table1=table(history)\n",
        "table1"
      ],
      "metadata": {
        "id": "dJ20Na0PuBuV"
      },
      "execution_count": null,
      "outputs": []
    },
    {
      "cell_type": "code",
      "execution_count": null,
      "metadata": {
        "id": "BovuTECN_4Ak"
      },
      "outputs": [],
      "source": [
        "model_2= tf.keras.Sequential([\n",
        "                       tf.keras.layers.Dense(32, activation='sigmoid', ),\n",
        "                       tf.keras.layers.BatchNormalization(),\n",
        "                       tf.keras.layers.Dense(32, activation='sigmoid'),\n",
        "                       tf.keras.layers.BatchNormalization(),\n",
        "                       tf.keras.layers.Dense(16, activation='sigmoid'),\n",
        "                       tf.keras.layers.BatchNormalization(),\n",
        "                       tf.keras.layers.Dense(8, activation='sigmoid'),\n",
        "                       tf.keras.layers.BatchNormalization(),\n",
        "\n",
        "                      tf.keras.layers.Dense(1)\n",
        "])\n",
        "\n",
        "model_2.compile(loss='mae',\n",
        "            optimizer = tf.keras.optimizers.SGD(learning_rate = 0.01),\n",
        "             metrics=['mae','mse','mape'])"
      ]
    },
    {
      "cell_type": "code",
      "execution_count": null,
      "metadata": {
        "id": "5YCFfidcAU3j"
      },
      "outputs": [],
      "source": [
        "fit2=fit_model(model_2,50)"
      ]
    },
    {
      "cell_type": "code",
      "execution_count": null,
      "metadata": {
        "id": "z2IJT7Y7AH6R"
      },
      "outputs": [],
      "source": [
        "metric2=metric_model(model_2,x_test,y_test)"
      ]
    },
    {
      "cell_type": "code",
      "execution_count": null,
      "metadata": {
        "id": "n_8C8j_1A0P5"
      },
      "outputs": [],
      "source": [
        "model_3= tf.keras.Sequential([\n",
        "                       tf.keras.layers.Dense(32, activation='relu', input_dim=x_train.shape[1]),\n",
        "                       tf.keras.layers.BatchNormalization(),\n",
        "                       tf.keras.layers.Dense(16, activation='relu'),\n",
        "                       tf.keras.layers.BatchNormalization(),\n",
        "                       tf.keras.layers.Dense(8, activation='relu'),\n",
        "                       tf.keras.layers.BatchNormalization(),\n",
        "\n",
        "                      tf.keras.layers.Dense(1)\n",
        "])\n",
        "\n",
        "model_3.compile(loss='mae',\n",
        "            optimizer = tf.keras.optimizers.SGD(learning_rate = 0.01),\n",
        "             metrics=['mae','mse','mape'])"
      ]
    },
    {
      "cell_type": "code",
      "execution_count": null,
      "metadata": {
        "id": "jUW09qndA1L7"
      },
      "outputs": [],
      "source": [
        "fit3= fit_model(model_3, 128)"
      ]
    },
    {
      "cell_type": "code",
      "execution_count": null,
      "metadata": {
        "id": "rLxFYqE2BHLp"
      },
      "outputs": [],
      "source": [
        "metric3= metric_model(model_3,x_test,y_test)"
      ]
    },
    {
      "cell_type": "code",
      "execution_count": null,
      "metadata": {
        "id": "Tn8pmDInBQ1y"
      },
      "outputs": [],
      "source": [
        "from sklearn.metrics import mean_squared_error\n",
        "model_4= tf.keras.Sequential([\n",
        "                       tf.keras.layers.Dense(32, activation='relu'),\n",
        "                       tf.keras.layers.BatchNormalization(),\n",
        "                       tf.keras.layers.Dense(16, activation='softmax'),\n",
        "                       tf.keras.layers.BatchNormalization(),\n",
        "                       tf.keras.layers.Dense(16, activation='relu'),\n",
        "                       tf.keras.layers.BatchNormalization(),\n",
        "                       tf.keras.layers.Dense(8, activation='softmax'),\n",
        "                       tf.keras.layers.BatchNormalization(),\n",
        "\n",
        "                      tf.keras.layers.Dense(1)\n",
        "])\n",
        "\n",
        "model_4.compile(loss='mae',\n",
        "            optimizer = tf.keras.optimizers.SGD(learning_rate=0.01),\n",
        "             metrics=['mae','mse','mape'])"
      ]
    },
    {
      "cell_type": "code",
      "execution_count": null,
      "metadata": {
        "id": "fGgMFITNCL_1"
      },
      "outputs": [],
      "source": [
        "fit4= fit_model(model_4,60)"
      ]
    },
    {
      "cell_type": "code",
      "execution_count": null,
      "metadata": {
        "colab": {
          "base_uri": "https://localhost:8080/"
        },
        "id": "WfEJ8R4sCUTj",
        "outputId": "9815de64-02dc-4011-c99b-1d6cf956ac73"
      },
      "outputs": [
        {
          "output_type": "stream",
          "name": "stdout",
          "text": [
            "656/656 [==============================] - 1s 2ms/step - loss: 1.3292 - mae: 1.3292 - mse: 8.7571 - mape: 13.9190\n",
            "the evaluation is [1.3291953802108765, 1.3291953802108765, 8.757068634033203, 13.919032096862793] \n",
            "\n",
            " the prediction is  [[ 8.445759 ]\n",
            " [ 4.4364586]\n",
            " [ 7.3662624]\n",
            " ...\n",
            " [ 4.8898115]\n",
            " [ 8.318588 ]\n",
            " [15.171545 ]] \n",
            "\n",
            " the metrics are [0.13919032221992222, 1.3291952354209167, 8.757070123318599] \n",
            "\n"
          ]
        }
      ],
      "source": [
        "metric4= metric_model(model_4,x_test,y_test)"
      ]
    },
    {
      "cell_type": "code",
      "source": [
        "table4=table(model_4)\n",
        "table4"
      ],
      "metadata": {
        "id": "WD0f-j9kuKRJ"
      },
      "execution_count": null,
      "outputs": []
    },
    {
      "cell_type": "code",
      "execution_count": null,
      "metadata": {
        "id": "q-GGsA2UCh2N"
      },
      "outputs": [],
      "source": [
        "model_5= tf.keras.Sequential([\n",
        "                       tf.keras.layers.Dense(64, activation='relu'),\n",
        "                       tf.keras.layers.BatchNormalization(),\n",
        "                       tf.keras.layers.Dense(32, activation='relu'),\n",
        "                       tf.keras.layers.BatchNormalization(),\n",
        "                       tf.keras.layers.Dense(8, activation='relu'),\n",
        "                       tf.keras.layers.BatchNormalization(),\n",
        "\n",
        "                      tf.keras.layers.Dense(1)\n",
        "\n",
        "])\n",
        "\n",
        "model_5.compile(loss='mae',\n",
        "            optimizer = tf.keras.optimizers.SGD(learning_rate=0.01),\n",
        "             metrics=['mae','mse','mape'])"
      ]
    },
    {
      "cell_type": "code",
      "execution_count": null,
      "metadata": {
        "id": "4TgAg8EgC75S"
      },
      "outputs": [],
      "source": [
        "fit5=fit_model(model_5,100)"
      ]
    },
    {
      "cell_type": "code",
      "execution_count": null,
      "metadata": {
        "id": "cKRVAdftDBYF"
      },
      "outputs": [],
      "source": [
        "metric5=metric_model(model_5,x_test,y_test)"
      ]
    },
    {
      "cell_type": "code",
      "source": [
        "table5=table(history)\n",
        "table5"
      ],
      "metadata": {
        "id": "EfbUB9n-uMR7"
      },
      "execution_count": null,
      "outputs": []
    },
    {
      "cell_type": "code",
      "execution_count": null,
      "metadata": {
        "id": "7wU6N4DcD8C8"
      },
      "outputs": [],
      "source": [
        "model_6= tf.keras.Sequential([\n",
        "                       tf.keras.layers.Dense(64, activation='softmax'),\n",
        "                       tf.keras.layers.BatchNormalization(),\n",
        "                       tf.keras.layers.Dense(32, activation='softmax'),\n",
        "                       tf.keras.layers.BatchNormalization(),\n",
        "                       tf.keras.layers.Dense(8, activation='softmax'),\n",
        "                       tf.keras.layers.BatchNormalization(),\n",
        "\n",
        "                      tf.keras.layers.Dense(1)\n",
        "\n",
        "])\n",
        "\n",
        "model_6.compile(loss='mae',\n",
        "            optimizer = tf.keras.optimizers.SGD(learning_rate=0.01),\n",
        "             metrics=['mae','mse','mape'])"
      ]
    },
    {
      "cell_type": "code",
      "execution_count": null,
      "metadata": {
        "id": "rtO2hzkOEqf2"
      },
      "outputs": [],
      "source": [
        "fit6=fit_model (model_6,10)"
      ]
    },
    {
      "cell_type": "code",
      "execution_count": null,
      "metadata": {
        "id": "zP2n35ycEv26"
      },
      "outputs": [],
      "source": [
        "metric6=metric_model(model_6,x_test,y_test)"
      ]
    },
    {
      "cell_type": "code",
      "source": [
        "table6=table(history)\n",
        "table6"
      ],
      "metadata": {
        "id": "Ew6jYWS6uUIx"
      },
      "execution_count": null,
      "outputs": []
    },
    {
      "cell_type": "markdown",
      "metadata": {
        "id": "_OztRtVTFpFq"
      },
      "source": [
        "# Experimening with Early Stopping and Dropout\n",
        "\n"
      ]
    },
    {
      "cell_type": "code",
      "execution_count": null,
      "metadata": {
        "id": "u_MzOLCEzyW8"
      },
      "outputs": [],
      "source": [
        "cb= tf.keras.callbacks.EarlyStopping(monitor='loss', patience=1)"
      ]
    },
    {
      "cell_type": "code",
      "execution_count": null,
      "metadata": {
        "id": "d5466f14"
      },
      "outputs": [],
      "source": [
        "# define a deep neural network model\n",
        "\n",
        "\n",
        "model_7= tf.keras.Sequential([\n",
        "                    tf.keras.layers.Dense(32, activation='sigmoid'),\n",
        "                    tf.keras.layers.BatchNormalization(),\n",
        "                    tf.keras.layers.Dense(16, activation='sigmoid'),\n",
        "                    tf.keras.layers.BatchNormalization(),\n",
        "\n",
        "                    tf.keras.layers.Dense(1)\n",
        "])\n",
        "\n",
        "model_7.compile(loss='mae',\n",
        "            optimizer=tf.keras.optimizers.Adam(0.001),metrics=['mae','mse','mape'])"
      ]
    },
    {
      "cell_type": "code",
      "execution_count": null,
      "metadata": {
        "id": "X-07sasb3QTc",
        "scrolled": true
      },
      "outputs": [],
      "source": [
        "%%time\n",
        "Batch =128\n",
        "Run =model_7.fit( x_train,y_train,\n",
        "    validation_data=(x_test, y_test),\n",
        "    validation_steps=len(x_test) // Batch,\n",
        "    batch_size=128,epochs=50, verbose=1,callbacks=[cb])"
      ]
    },
    {
      "cell_type": "code",
      "execution_count": null,
      "metadata": {
        "id": "2e4f5703"
      },
      "outputs": [],
      "source": [
        "metric_7=metric_model(model_7,x_test, y_test)"
      ]
    },
    {
      "cell_type": "markdown",
      "source": [
        "conclusions:\n",
        "* from the above models, we can determine that the number of layers has a quicker effect as compared to number of neurons on the accuracy and score of the neural network.\n",
        "* we can also see that for similar number of neurons and layers, the activation function also has a huge effect on the results.\n",
        "the sigmoid activation function is not as good as Relu in some aspects.\n",
        "\n",
        "\n",
        "---\n",
        "**DROP OUT RATE**\n",
        "\n",
        "\n",
        "---\n",
        "\n"
      ],
      "metadata": {
        "id": "JldUBYRNJNds"
      }
    },
    {
      "cell_type": "code",
      "execution_count": null,
      "metadata": {
        "id": "dD_davAdGJVc"
      },
      "outputs": [],
      "source": []
    },
    {
      "cell_type": "code",
      "source": [
        "import tensorflow as tf\n",
        "from tensorflow import keras\n",
        "from keras import layers\n",
        "from keras.layers import Dropout"
      ],
      "metadata": {
        "id": "bbKMq4i-JjcE"
      },
      "execution_count": null,
      "outputs": []
    },
    {
      "cell_type": "code",
      "execution_count": null,
      "metadata": {
        "id": "e9358b64"
      },
      "outputs": [],
      "source": [
        "model_8 = tf.keras.Sequential([\n",
        "\n",
        "                     tf.keras.layers.Dense(32, activation='relu'),\n",
        "                     tf.keras.layers.BatchNormalization(),\n",
        "                     Dropout(0.3)  ,\n",
        "                  tf.keras.layers.Dense(16, activation='relu'),\n",
        "                  tf.keras.layers.BatchNormalization(),\n",
        "                  Dropout(0.2),\n",
        "                tf.keras.layers.Dense(8, activation='relu'),\n",
        "                tf.keras.layers.BatchNormalization(),\n",
        "                Dropout(0.3),\n",
        "\n",
        "             tf.keras.layers.Dense(1)\n",
        "])\n",
        "\n",
        "model_8.compile(loss='mae',\n",
        "          optimizer = tf.keras.optimizers.SGD(learning_rate = 0.01),\n",
        "           metrics=['mae','mse','mape'])"
      ]
    },
    {
      "cell_type": "code",
      "execution_count": null,
      "metadata": {
        "scrolled": true,
        "id": "bb28aa18",
        "colab": {
          "base_uri": "https://localhost:8080/"
        },
        "outputId": "cb782e26-fa4a-47ec-9906-3cd38877cb65"
      },
      "outputs": [
        {
          "output_type": "stream",
          "name": "stdout",
          "text": [
            "Epoch 1/10\n",
            "492/492 [==============================] - 2s 3ms/step - loss: 1.8858 - mae: 1.8858 - mse: 11.1877 - mape: 21.0937 - val_loss: 1.5743 - val_mae: 1.5743 - val_mse: 10.0205 - val_mape: 16.5393\n",
            "Epoch 2/10\n",
            "492/492 [==============================] - 2s 4ms/step - loss: 1.8774 - mae: 1.8774 - mse: 11.0809 - mape: 21.1286 - val_loss: 1.5758 - val_mae: 1.5758 - val_mse: 9.9869 - val_mape: 16.6973\n",
            "Epoch 3/10\n",
            "492/492 [==============================] - 2s 4ms/step - loss: 1.8552 - mae: 1.8552 - mse: 11.0115 - mape: 20.8426 - val_loss: 1.5777 - val_mae: 1.5777 - val_mse: 10.0222 - val_mape: 16.6777\n",
            "Epoch 4/10\n",
            "492/492 [==============================] - 1s 3ms/step - loss: 1.8457 - mae: 1.8457 - mse: 10.8784 - mape: 20.6965 - val_loss: 1.5664 - val_mae: 1.5664 - val_mse: 9.9135 - val_mape: 16.6407\n",
            "Epoch 5/10\n",
            "492/492 [==============================] - 1s 3ms/step - loss: 1.8411 - mae: 1.8411 - mse: 10.8853 - mape: 20.6841 - val_loss: 1.5678 - val_mae: 1.5678 - val_mse: 9.9653 - val_mape: 16.5899\n",
            "Epoch 6/10\n",
            "492/492 [==============================] - 1s 3ms/step - loss: 1.8292 - mae: 1.8292 - mse: 10.7773 - mape: 20.5802 - val_loss: 1.5619 - val_mae: 1.5619 - val_mse: 9.9348 - val_mape: 16.4918\n",
            "Epoch 7/10\n",
            "492/492 [==============================] - 1s 3ms/step - loss: 1.8203 - mae: 1.8203 - mse: 10.7092 - mape: 20.6834 - val_loss: 1.5539 - val_mae: 1.5539 - val_mse: 9.8493 - val_mape: 16.5065\n",
            "Epoch 8/10\n",
            "492/492 [==============================] - 1s 3ms/step - loss: 1.8088 - mae: 1.8088 - mse: 10.6317 - mape: 20.3673 - val_loss: 1.5517 - val_mae: 1.5517 - val_mse: 9.7963 - val_mape: 16.6119\n",
            "Epoch 9/10\n",
            "492/492 [==============================] - 1s 3ms/step - loss: 1.8117 - mae: 1.8117 - mse: 10.6423 - mape: 20.6328 - val_loss: 1.5459 - val_mae: 1.5459 - val_mse: 9.7698 - val_mape: 16.5176\n",
            "Epoch 10/10\n",
            "492/492 [==============================] - 1s 3ms/step - loss: 1.8059 - mae: 1.8059 - mse: 10.5261 - mape: 20.5765 - val_loss: 1.5491 - val_mae: 1.5491 - val_mse: 9.8149 - val_mape: 16.5155\n",
            "CPU times: user 17 s, sys: 863 ms, total: 17.8 s\n",
            "Wall time: 20.7 s\n"
          ]
        }
      ],
      "source": [
        "%%time\n",
        "Batch =128\n",
        "Run =model_8.fit( x_train, y_train,\n",
        "    validation_data=(x_test, y_test),\n",
        "    validation_steps=len(x_test) // Batch,\n",
        "    batch_size=128,\n",
        "    epochs=10, verbose=1)"
      ]
    },
    {
      "cell_type": "code",
      "source": [
        "table8=table(Run)\n",
        "table8"
      ],
      "metadata": {
        "id": "uhLasiUXutkN"
      },
      "execution_count": null,
      "outputs": []
    },
    {
      "cell_type": "code",
      "source": [
        "metric_8=metric_model(model_8,x_test,y_test)"
      ],
      "metadata": {
        "id": "KN55D0cEJt5o"
      },
      "execution_count": null,
      "outputs": []
    },
    {
      "cell_type": "code",
      "source": [
        "input = keras.layers.Input(shape=x_train.shape[1:])\n",
        "hidden1 = keras.layers.Dense(30, activation=\"relu\")(input)\n",
        "hidden2 = keras.layers.Dense(30, activation=\"relu\")(hidden1)\n",
        "concat = keras.layers.Concatenate([input, hidden2])\n",
        "output = keras.layers.Dense(1)(concat)\n",
        "model_ = keras.models.Model(inputs=[input], outputs=[output])\n"
      ],
      "metadata": {
        "id": "2CIh6uWCVuyC"
      },
      "execution_count": null,
      "outputs": []
    },
    {
      "cell_type": "code",
      "source": [
        "model_.compile(loss=\"mse\", optimizer=\"sgd\")\n",
        "\n",
        "history = model_.fit( x_train, y_train,\n",
        "    validation_data=(x_test, y_test),\n",
        "    validation_steps=len(x_test) // Batch,\n",
        "    batch_size=128,\n",
        "    epochs=10, verbose=1)\n",
        "\n"
      ],
      "metadata": {
        "id": "oE1bjWagWzOe"
      },
      "execution_count": null,
      "outputs": []
    },
    {
      "cell_type": "code",
      "source": [
        "metric_=metric_model(model_,x_test,y_test)"
      ],
      "metadata": {
        "id": "14xTw3QsFiJk"
      },
      "execution_count": null,
      "outputs": []
    },
    {
      "cell_type": "markdown",
      "source": [
        "#Trying with other optimisers"
      ],
      "metadata": {
        "id": "Dv4TPloNVvRr"
      }
    },
    {
      "cell_type": "code",
      "source": [
        "import tensorflow\n",
        "from tensorflow import keras\n",
        "from keras import layers\n",
        "from keras.layers import Dropout\n",
        "from keras import optimizers\n",
        "optimizers.RMSprop\n",
        "optimizers.Adam"
      ],
      "metadata": {
        "id": "XWe-abjkIbb_"
      },
      "execution_count": null,
      "outputs": []
    },
    {
      "cell_type": "code",
      "source": [
        "model_9= tf.keras.Sequential([\n",
        "\n",
        "                         tf.keras.layers.Dense(32, activation='relu'),\n",
        "                         tf.keras.layers.BatchNormalization(),\n",
        "                          Dropout(0.3) ,\n",
        "                      tf.keras.layers.Dense(8, activation='softmax'),\n",
        "                       tf.keras.layers.BatchNormalization(),\n",
        "                      Dropout(0.3) ,\n",
        "\n",
        "                     tf.keras.layers.Dense(1)\n",
        "])\n",
        "rms=keras.optimizers.RMSprop(lr=0.001, rho=0.9, epsilon=None, decay=0.0)\n",
        "model_9.compile(loss='mae',\n",
        "            optimizer=rms, metrics=['mae','mse','mape'])"
      ],
      "metadata": {
        "id": "hPJ4jYiWH9z_"
      },
      "execution_count": null,
      "outputs": []
    },
    {
      "cell_type": "code",
      "execution_count": null,
      "metadata": {
        "scrolled": true,
        "id": "15ae1eb4",
        "colab": {
          "base_uri": "https://localhost:8080/",
          "height": 148
        },
        "outputId": "4b8a6c25-7af1-425c-8335-d7af137c7e6c"
      },
      "outputs": [
        {
          "output_type": "error",
          "ename": "NameError",
          "evalue": "ignored",
          "traceback": [
            "\u001b[0;31m---------------------------------------------------------------------------\u001b[0m",
            "\u001b[0;31mNameError\u001b[0m                                 Traceback (most recent call last)",
            "\u001b[0;32m<timed exec>\u001b[0m in \u001b[0;36m<module>\u001b[0;34m\u001b[0m\n",
            "\u001b[0;31mNameError\u001b[0m: name 'model_9' is not defined"
          ]
        }
      ],
      "source": [
        "\n",
        "%%time\n",
        "Batch =128\n",
        "Run =model_9.fit(x_train,y_train,\n",
        "    validation_data=(x_test, y_test),\n",
        "    validation_steps=len(x_test) // Batch,\n",
        "    batch_size=128,\n",
        "    epochs=100, verbose=1)"
      ]
    },
    {
      "cell_type": "code",
      "source": [
        "table9=table(Run)\n",
        "table9"
      ],
      "metadata": {
        "id": "xNKf-ptouzrE"
      },
      "execution_count": null,
      "outputs": []
    },
    {
      "cell_type": "code",
      "source": [
        "metric_9=metric_model(model_9,x_test,y_test)"
      ],
      "metadata": {
        "colab": {
          "base_uri": "https://localhost:8080/",
          "height": 165
        },
        "id": "_liO_bLmpfbl",
        "outputId": "2729753f-ca37-48b3-c490-cda00ca89324"
      },
      "execution_count": null,
      "outputs": [
        {
          "output_type": "error",
          "ename": "NameError",
          "evalue": "ignored",
          "traceback": [
            "\u001b[0;31m---------------------------------------------------------------------------\u001b[0m",
            "\u001b[0;31mNameError\u001b[0m                                 Traceback (most recent call last)",
            "\u001b[0;32m<ipython-input-116-efffbc1bbf7c>\u001b[0m in \u001b[0;36m<module>\u001b[0;34m\u001b[0m\n\u001b[0;32m----> 1\u001b[0;31m \u001b[0mmetric_9\u001b[0m\u001b[0;34m=\u001b[0m\u001b[0mmetric_model\u001b[0m\u001b[0;34m(\u001b[0m\u001b[0mmodel_9\u001b[0m\u001b[0;34m,\u001b[0m\u001b[0mx_test\u001b[0m\u001b[0;34m,\u001b[0m\u001b[0my_test\u001b[0m\u001b[0;34m)\u001b[0m\u001b[0;34m\u001b[0m\u001b[0;34m\u001b[0m\u001b[0m\n\u001b[0m",
            "\u001b[0;31mNameError\u001b[0m: name 'model_9' is not defined"
          ]
        }
      ]
    },
    {
      "cell_type": "code",
      "source": [],
      "metadata": {
        "id": "SFUSqNWOplRl"
      },
      "execution_count": null,
      "outputs": []
    },
    {
      "cell_type": "code",
      "source": [
        "model_10= tf.keras.Sequential([\n",
        "\n",
        "                         tf.keras.layers.Dense(32, activation='relu'),\n",
        "                         tf.keras.layers.BatchNormalization(),\n",
        "                      tf.keras.layers.Dense(8, activation='sigmoid'),\n",
        "                       tf.keras.layers.BatchNormalization(),\n",
        "                      Dropout(0.3) ,\n",
        "\n",
        "                     tf.keras.layers.Dense(1)\n",
        "])\n",
        "\n",
        "adam=keras.optimizers.Adam(lr=0.001, beta_1=0.9, beta_2=0.999)\n",
        "\n",
        "\n",
        "model_10.compile(loss='mae',\n",
        "            optimizer=adam, metrics=['mae','mse','mape'])"
      ],
      "metadata": {
        "id": "Y91BuiItpo8d"
      },
      "execution_count": null,
      "outputs": []
    },
    {
      "cell_type": "code",
      "execution_count": null,
      "metadata": {
        "scrolled": true,
        "id": "xvXxdexGpo8e"
      },
      "outputs": [],
      "source": [
        "\n",
        "%%time\n",
        "Batch =128\n",
        "Run =model_10.fit(x_train,y_train,\n",
        "    validation_data=(x_test, y_test),\n",
        "    validation_steps=len(x_test) // Batch,\n",
        "    batch_size=128,\n",
        "    epochs=100, verbose=1)"
      ]
    },
    {
      "cell_type": "code",
      "source": [
        "metric_10=metric_model(model_10,x_test,y_test)"
      ],
      "metadata": {
        "id": "yEhqCM2Kpo8f"
      },
      "execution_count": null,
      "outputs": []
    },
    {
      "cell_type": "markdown",
      "source": [
        "from the above experiments we can observe that wide and deep models give better results due to conactenation. also the activation technique best suited has been relu. I would like to use Adam as the optimizer on the above metrics.\n",
        "\n",
        "the number of epochs and the batch size also determines the quality of the neural network. Generally , more number of epochs are better but may lead to overfitting of data.\n",
        "\n",
        "we have used a function to show the 95% confidence levels of some of the above models."
      ],
      "metadata": {
        "id": "DVZwLZAhqrHm"
      }
    }
  ],
  "metadata": {
    "colab": {
      "toc_visible": true,
      "provenance": [],
      "authorship_tag": "ABX9TyOH3mXwxCRXT88Xc6WrgoLd",
      "include_colab_link": true
    },
    "kernelspec": {
      "display_name": "Python 3",
      "name": "python3"
    },
    "language_info": {
      "name": "python"
    }
  },
  "nbformat": 4,
  "nbformat_minor": 0
}